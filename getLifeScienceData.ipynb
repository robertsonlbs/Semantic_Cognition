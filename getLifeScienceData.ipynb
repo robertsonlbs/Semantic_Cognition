{
 "cells": [
  {
   "cell_type": "code",
   "execution_count": 1,
   "id": "dfec0618-b945-4a5b-b912-f31553828687",
   "metadata": {},
   "outputs": [],
   "source": [
    "import json\n",
    "import nltk\n",
    "from nltk.stem import PorterStemmer\n",
    "from nltk.corpus import stopwords\n",
    "from collections import defaultdict"
   ]
  },
  {
   "cell_type": "markdown",
   "id": "6d55b107-e509-45e8-ad49-7faf76c2f322",
   "metadata": {},
   "source": [
    "### Data Preprocessing"
   ]
  },
  {
   "cell_type": "code",
   "execution_count": 2,
   "id": "535b495f-a69f-4f95-84a9-bbeefaeb31e6",
   "metadata": {},
   "outputs": [],
   "source": [
    "# nltk.download('stopwords')"
   ]
  },
  {
   "cell_type": "code",
   "execution_count": 3,
   "id": "0530d5a3-4ae4-4e14-bfc1-fe602a7a7dbf",
   "metadata": {},
   "outputs": [],
   "source": [
    "with open('train.jsonl', 'r') as json_file:\n",
    "    json_list = list(json_file)"
   ]
  },
  {
   "cell_type": "code",
   "execution_count": 4,
   "id": "f9ffc43f-a598-43cb-b596-e62090275959",
   "metadata": {},
   "outputs": [
    {
     "data": {
      "text/plain": [
       "583082"
      ]
     },
     "execution_count": 4,
     "metadata": {},
     "output_type": "execute_result"
    }
   ],
   "source": [
    "len(json_list)"
   ]
  },
  {
   "cell_type": "code",
   "execution_count": 5,
   "id": "7c36113f-87f1-4a28-9285-bd5b85b505ea",
   "metadata": {},
   "outputs": [],
   "source": [
    "json_list = [eval(l) for l in json_list]"
   ]
  },
  {
   "cell_type": "code",
   "execution_count": 6,
   "id": "b82d8d14-8a0c-46ab-981d-9e841c0ac713",
   "metadata": {},
   "outputs": [],
   "source": [
    "heads = set()\n",
    "for l in json_list:\n",
    "    heads.add(l['head'])"
   ]
  },
  {
   "cell_type": "code",
   "execution_count": 7,
   "id": "89044007-78ba-4573-a0a7-3d883267a850",
   "metadata": {},
   "outputs": [
    {
     "data": {
      "text/plain": [
       "123629"
      ]
     },
     "execution_count": 7,
     "metadata": {},
     "output_type": "execute_result"
    }
   ],
   "source": [
    "len(heads)"
   ]
  },
  {
   "cell_type": "code",
   "execution_count": 8,
   "id": "efc9bd60-3137-45a6-946f-8d937e6380da",
   "metadata": {},
   "outputs": [],
   "source": [
    "wl_1 = ['Anatomy', 'Physiology', 'Microbiology', 'Genetics', 'Evolution', 'Ecology', 'Immunology', 'Biochemistry', 'Biophysics', 'Biotechnology', 'Zoology', 'Botany', 'Paleontology', 'Biomechanics', 'Neuroscience', 'Virology', 'Pharmacology', 'Toxicology', 'Biostatistics', 'Epidemiology', 'Physician', 'Surgeon', 'Cardiologist', 'Dermatologist', 'Gynecologist', 'Neurologist', 'Oncologist', 'Pediatrician', 'Psychiatrist', 'Urologist', 'Ophthalmologist', 'Radiologist', 'Allergist', 'Anesthesiologist', 'Endocrinologist', 'Gastroenterologist', 'Hematologist', 'Pulmonologist', 'Rheumatologist', 'Oncology nurse', 'Drug', 'Medicine', 'Vaccine', 'Antibiotic', 'Antiviral', 'Antifungal', 'Analgesic', 'Sedative', 'Stimulant', 'Antihistamine', 'Active ingredient', 'Excipient', 'Dosage form', 'Generic drug', 'Brand name drug', 'Over-the-counter (OTC)', 'Prescription-only medicine (POM)', 'Biologics', 'Biosimilars', 'Clinical trial', 'DNA', 'RNA', 'Protein', 'Enzyme', 'Gene', 'Chromosome', 'Mutation', 'Ecosystem', 'Adaptation', 'Photosynthesis', 'Homeostasis', 'Metabolism', 'Cytology', 'Immunotherapy', 'Proteomics', 'Genomics', 'Epigenetics', 'Natural selection', 'Biodiversity', 'Taxonomy', 'Cell membrane', 'Cytoplasm', 'Nucleus', 'Mitochondria', 'Endoplasmic reticulum', 'Golgi apparatus', 'Ribosome', 'Lysosome', 'Cytoskeleton', 'Chloroplast', 'Organelle', 'Cilia', 'Flagella', 'Nucleolus', 'Centrosome']"
   ]
  },
  {
   "cell_type": "code",
   "execution_count": 9,
   "id": "babc34ea-763f-45de-ad41-dfb11c8fba5f",
   "metadata": {},
   "outputs": [],
   "source": [
    "wl_2 = ['Sclerosis', 'Cell wall', 'Affinity', 'Neural network', 'Chromosome', 'Diet', 'Cytosine', 'Memory', 'Spleen', 'Vertebral column', 'Edema', 'Nucleus', 'Pituitary gland', 'Evolution', 'Fibrosis', 'Spermatid', 'Developmental biology', 'Fibrous protein', 'Arteriosclerosis', 'Graft', 'Caffeine', 'Cytoplasm', 'Inhibitory neurotransmitter', 'Cell membrane', 'Anatomy', 'Hemophilia', 'Avian influenza', 'Obstetrics', 'Animal testing', 'Multicellular organism', 'Amniotic fluid', 'Ageing', 'Blood transfusion', 'Chemotherapy', 'Cervical cancer', 'Islets of Langerhans', 'Atrophy', 'Sweat gland', 'Herbicide', 'Convulsion', 'RNA', 'Migraine', 'Mucous membrane', 'Gonad', 'Phloem', 'Endoplasmic reticulum (ER)', 'Metabolism', 'oxide', 'Narcotic', 'Thermodynamics', 'Proline', 'Translation', 'Electroencephalogram (EEG)', 'Hypothyroidism', 'Pulmonary artery', 'Polyunsaturated fat', 'Ligament', 'Metaphase', 'Mammary gland', 'Monosaccharide', 'Fimbriae', 'Echocardiogram', 'Cranial nerves', 'Oral cavity', 'Hepatocyte', 'Atrial fibrillation', 'Endocrine system', 'Retrovirus', 'Metabolic rate', 'Cerebrospinal fluid', 'Nidus', 'Gene therapy', 'Beta-lactam', 'Synaptic transmission', 'Urethra', 'Adenosine triphosphate (ATP)', 'Potassium', 'Oogenesis', 'Emphysema', 'Seminal vesicle', 'Neuron', 'Polio', 'Nucleolus', 'Arrhythmia', 'Enzyme', 'Polymerase chain reaction', 'Endometrial cancer', 'Proton', 'Catheter', 'Hygiene', 'MRNA splicing', 'Scoliosis', 'Endometriosis', 'Intracellular fluid', 'Parietal lobe', 'Cell therapy', 'Molecule', 'Barbiturate', 'Jaundice', 'NADH', 'Adolescence', 'Pulmonary valve', 'Tonoplast', 'Aetiology', 'Disease', 'Estrogen', 'Vitamin E', 'In vitro', 'Nonsteroidal anti-inflammatory drug', 'Phylogenetic tree', 'Angiotensin', 'Cytology', 'High blood pressure', 'Hemorrhage', 'Phospholipid', 'Photoreceptor', 'Knee', 'Tissue', 'Thalamus', 'Bronchioles', 'Kinesiology', 'Refractory period', 'Vein', 'Corticosteroid', 'Glycolysis', 'Oxidation', 'Somatic mutation', 'Influenza', 'Neurotransmitter', 'Carbon dioxide', 'Nephron', 'Epinephrine', 'Fungal', 'Hormone', 'Saturated fat', 'Lung', 'Dendrite', 'Urea', 'Dihybrid', 'Post-translational modification', 'Geriatrics', 'Lumen', 'Bronchodilator', 'Golgi apparatus', 'Sclera', 'Lumbar puncture', 'Peyers patch', 'RNA splicing', 'Expression', 'Ectopic pregnancy', 'Adverse event', 'Polar molecule', 'Depolarization', 'Purine', 'Pharmacology', 'AIDS', 'Digitalis', 'Receptor', 'Sickle cell anemia', 'Natural selection', 'Aspiration', 'Diaphragm', 'Succinate', 'Synapse', 'Heart attack', 'Colitis', 'Thyroid hormone', 'Type 2 diabetes', 'Prokaryote', 'Biochemistry', 'Catabolism', 'Nervous system', 'Electrolyte', 'Drug delivery', 'Beta-thalassemia', 'Genotype', 'Element', 'Bronchitis', 'Tricuspid valve', 'Insulin', 'Facilitated diffusion', 'Primary structure', 'Suprarenal gland', 'Asthma', 'Diffusion', 'Aldosterone', 'Laser', 'Monoclonal antibody', 'Congenital', 'Vision', 'Bone marrow', 'Inorganic compound', 'Microorganism', 'Tooth', 'T cell', 'Concentration', 'Melanoma', 'Gestational diabetes', 'Precipitation', 'Nitrogenous base', 'Obesity', 'DNA sequencing', 'Gingivitis', 'Flow cytometry', 'Dopamine', 'Sex chromosome', 'Hydrocephalus', 'Skeleton', 'Lymph node', 'Green fluorescent protein', 'Eosinophil', 'Hydrogen bond', 'Flu', 'Ventilation', 'Dissection', 'Joint', 'Glioma', 'Sympathetic nervous system', 'Quadriceps', 'Nondisjunction', 'Axon', 'COPD', 'Inherited disease', 'Barrier contraception', 'Erectile dysfunction', 'Homologous chromosome', 'Egg cell', 'Drug resistance', 'Larynx', 'Ghrelin', 'Diarrhea', 'Exposure', 'Habituation', 'Pleural cavity', 'Congestive heart failure', 'Gastric cancer', 'Spermatogenesis', 'Virus', 'Dislocation', 'Macrophage', 'Mendelian inheritance', 'Saturated fatty acid', 'Emergency contraception', 'Opiate', 'Pulmonary vein', 'Electrocardiogram', 'Mast cell', 'Messenger RNA (mRNA)', 'Alternative medicine', 'Cryotherapy', 'Assay', 'Chronic', 'Epithelial cell', 'Tolerance', 'Intestine', 'Mitosis', 'Beta blocker', 'Urine', 'DNA replication', 'Histone', 'White blood cell', 'Extracellular matrix', 'Ovarian follicle', 'Oligosaccharide', 'Irradiation', 'Regeneration', 'Endoplasmic reticulum', 'Meninges', 'Exophthalmos', 'Population genetics', 'CT scan', 'Proteolysis', 'Malnutrition', 'Nasopharynx', 'Sarcomere', 'Anxiety', 'Invasive species', 'Cancer', 'Humoral immunity', 'Organ', 'Bisphosphonate', 'Diastole', 'Helicase', 'Exercise', 'Trophic level', 'Nitrogen cycle', 'Inflammation', 'Cremation', 'Intron', 'Pregnancy', 'Y chromosome', 'Vagina', 'Protein synthesis', 'Allergy', 'Gingiva', 'Histology', 'Thrombin', 'Complementary medicine', 'Vitamin', 'Immune system', 'Light-dependent reactions', 'Beta-amyloid', 'Recombinant DNA', 'Central nervous system', 'Inhibitory', 'Cognition', 'Krebs cycle', 'Ovulation', 'Blood clot', 'Quaternary structure', 'Microtubule', 'Vitamin A', 'Endosome', 'Exoskeleton', 'Ileum', 'Mucus', 'Cyanide', 'Stem cell', 'Vena cava', 'Exocytosis', 'Osteoblast', 'Admission', 'Proteoglycan', 'Kidney', 'Renal vein', 'Pain', 'Dominant', 'Stomach', 'Type 1 diabetes', 'Symbiosis', 'Luteinizing hormone', 'Hydrophobic', 'Nucleotide', 'Uterus', 'Immunity', 'Metastasis', 'Thermoreceptor', 'Ventricular fibrillation', 'Neurology', 'Receptor-mediated endocytosis', 'Disinfectant', 'Tumor', 'Osteoporosis', 'Respiration', 'Mitochondrion', 'Titin', 'Urinary tract infection', 'Alcoholism', 'Polyunsaturated fatty acid', 'Transport protein', 'Angiogram', 'Bipolar disorder', 'Papillary muscle', 'Adherence', 'In vivo', 'Bone', 'Benign', 'Extracellular fluid', 'Headache', 'Ejection fraction', 'Leukocyte', 'Physiology', 'Hyperglycemia', 'Occipital lobe', 'Folic acid', 'Neuroscience', 'Blood-brain barrier', 'Ischemia', 'Haploid', 'Recombination', 'Hypoglycemia', 'Villi', 'Thymus gland', 'Interferon', 'Endoscope', 'Blood', 'Heart disease', 'Pyruvate', 'Norepinephrine', 'Malignant', 'Crohn’s disease', 'Cardiovascular', 'Heterozygous', 'Tuberculosis', 'Cellular respiration', 'Portal vein', 'Pleiotropy', 'Telomere', 'Lipid', 'Lactation', 'Ketone body', 'Growth hormone', 'Myocardial infarction', 'Reproductive system', 'Protein folding', 'Flora', 'Somatic system', 'Macromolecule', 'Mendelian genetics', 'Lymphocyte', 'Fibroblast', 'Pyrimidine', 'Manic-depressive disorder', 'Taste bud', 'Dominant allele', 'Lymphatic system', 'Oncogene', 'Retina', 'Tetanus', 'Heart', 'X chromosome', 'Connective tissue', 'Nerve', 'Electron transport chain', 'Genetics', 'Biliary system', 'Genetic code', 'Muscle fiber', 'Anesthesia', 'Hepatic portal system', 'Hypertension', 'Nitrogen fixation', 'Aggregation', 'Testis', 'Sphincter', 'Polysaccharide', 'Antioxidant', 'Pulmonary circulation', 'Motor neuron', 'Behavioural psychology', 'Placenta', 'Iodine', 'Apoptosis', 'Serotonin', 'Immunoglobulin', 'Platelet', 'Phagocytosis', 'Hermaphrodite', 'Skeletal muscle', 'Femur', 'Messenger RNA', 'Optic nerve', 'Sucrose', 'T lymphocyte', 'Anticoagulant', 'Dermis', 'Glaucoma', 'Somatic cell', 'Genetic engineering', 'Purkinje fibers', 'Smooth endoplasmic reticulum', 'Nonpolar molecule', 'Hematuria', 'Dipeptide', 'Conjugation', 'Arthritis', 'Allergen', 'Reflex', 'Capillary', 'Electrical synapse', 'Angiogenesis', 'Autoimmune disease', 'G protein-coupled receptor', 'Digestive system', 'Malaria', 'Gestation', 'Vitamin D', 'Allosteric', 'Lobe', 'Neutrophil', 'Nucleic acid', 'Fossil', 'Genome', 'Vitreous humor', 'Free radical', 'Prophase', 'Implant', 'Diagnostic test', 'Human genome project', 'Osteocyte', 'Sulci', 'Ribonucleic acid', 'Gastrin', 'Liver', 'Foot', 'Smooth muscle', 'Red blood cell', 'Spermatozoon', 'Fertilization', 'Gastroenterology', 'Norepine', 'Embolism', 'Cocaine', 'Myosin', 'Morphine', 'Parathyroid gland', 'Cortisol', 'Muscle', 'Polarization', 'Cytokinesis', 'Osteoclast', 'Feces', 'Gene mutation', 'Signal transduction', 'Protozoan', 'Operon', 'Deoxyribonucleic acid (DNA)', 'Intercalated disc', 'Immunology', 'Brain', 'Consciousness', 'Fracture', 'Food', 'Cystic fibrosis', 'Embryo', 'Dermatology', 'Herpes', 'Osteogenesis', 'Puberty', 'Starch', 'Genitalia', 'Endothelium', 'Menstruation', 'Antigen', 'Disorder', 'Ligand', 'Multicellular', 'Pancreas', 'Diabetes', 'Noninvasive', 'Bacterial infection', 'Reproduction', 'Esophageal cancer', 'Hyperthyroidism', 'Monomer', 'Huntington’s disease', 'Nipple', 'Stroke', 'Bacteriophage', 'Transfer RNA (tRNA)', 'Electrocardiogram (ECG)', 'Cryopreservation', 'Creatine', 'Filter', 'Exon', 'Spinal cord', 'Antipsychotic', 'Follicle-stimulating hormone', 'Gene expression', 'Bulimia nervosa', 'Mycology', 'Dietary supplement', 'Germ cell', 'Giardia', 'Tropism', 'LDL cholesterol', 'Urinary bladder', 'Inferior colliculus', 'Down syndrome', 'Cholesterol', 'Cytotoxic T cell', 'Sarcoma', 'Glial cell', 'Transcription', 'Endemic', 'Endoscopy', 'Gastrointestinal tract', 'Polymer', 'pH', 'Communicable disease', 'Eukaryote', 'Turgor pressure', 'Erythrocyte', 'Hybridization', 'Brainstem', 'Frontal lobe', 'Mitochondria', 'Cannula', 'Pedigree', 'Dorsal', 'Mood disorder', 'Optical microscope', 'Endocrinology', 'Vaccine','Memory cell', 'Erythropoietin', 'Growth factor', 'Atherosclerosis', 'Semicircular canal', 'Peripheral nervous system', 'Pineal gland', 'Corpus luteum', 'Oxidative phosphorylation', 'Guanine', 'Desensitization', 'Antibiotic', 'Dyslexia', 'Alcohol', 'Peritoneum', 'Symptom', 'Quadriplegia', 'Hemorrhoids', 'Biostatistics', 'Airway', 'Microglia', 'Sensory neuron', 'Globular protein', 'Lipoprotein', 'Leukemia', 'Ketone', 'Hair', 'Hydrophilic', 'Gastritis', 'Photosynthesis', 'Cerebral cortex', 'Glycogen', 'Positive feedback', 'Vitamin B', 'Cholinergic', 'Colon', 'Hereditary', 'Promoter', 'Phosphorylation', 'Bacterium', 'Catecholamine', 'Immunodeficiency', 'Ion', 'Pinocytosis', 'Light-independent reactions', 'Vagus nerve', 'Computed tomography (CT)', 'Energy', 'Visual cortex', 'Homeostasis', 'Adenine', 'Epidermis', 'Bronchi', 'Ion channel', 'Pathogen', 'Meniscus', 'Fatty acid', 'Mycorrhiza']"
   ]
  },
  {
   "cell_type": "code",
   "execution_count": 10,
   "id": "deb2b941-e6f0-44e3-8c0a-08cd8ebf9cd8",
   "metadata": {},
   "outputs": [],
   "source": [
    "wl_3 = ['Autopsy', 'Nutrient', 'Papilloma', 'Myocyte', 'Hair cell', 'Amino acid', 'Burn', 'Protein', 'Cirrhosis', 'Myofibril', 'Cardiac arrest', 'Coagulation', 'Small intestine', 'Substrate', 'Lactose', 'Vitamin C', 'Albumin', 'Intravenous', 'Cannabinoid', 'Fusion', 'Osteoarthritis', 'Regulatory protein', 'Insomnia', 'Thyroid gland', 'Steroid hormone', 'Superior colliculus', 'Pharynx', 'MRI', 'Sensory receptor', 'Ribosome', 'Constipation', 'Zygote', 'Anaphylaxis', 'Peptide bond', 'Organ system', 'Otitis media', 'Sodium-potassium pump', 'DNA', 'Glucagon', 'National Institutes of Health', 'RNA interference', 'Hydrolysis', 'Necrosis', 'Disaccharide', 'Vas deferens', 'Regulatory RNA', 'Biopsy', 'Cardiac cycle', 'Plasma membrane', 'Laxative', 'Menopause', 'Pepsin', 'Creatinine', 'Glioblastoma', 'Pericardium', 'Alzheimer’s disease', 'Breast cancer', 'Carrier', 'Beta-carotene', 'Nanometer', 'Depression', 'Integumentary system', 'Vasopressin', 'Induced pluripotent stem cell', 'Enzyme inhibitor', 'Vacuole', 'Rabies', 'Semi-conservative replication', 'Somatostatin', 'Ribonucleic acid (RNA)', 'Somatosensory cortex', 'High-density lipoprotein (HDL)', 'Lactic acid', 'Hypothalamus', 'Systemic circulation', 'Dehydration', 'Translocation', 'Electroconvulsive therapy (ECT)', 'Spliceosome', 'Radioactive decay', 'Methylation', 'Hematopoiesis', 'Gene', 'Cerebellum', 'Polypeptide', 'Population', 'Keratin', 'Renal artery', 'Parkinsons disease', 'Transpiration', 'Basal metabolic rate', 'Cytoplasmic streaming', 'Contrast agent', 'Gastric acid', 'Gamete', 'Somatic sensation', 'Testosterone', 'Pneumonia', 'Aerobic', 'Fermentation', 'Genetic disorder', 'Human chorionic gonadotropin (hCG)', 'Bile', 'Rod cell', 'Microscope', 'Nasal cavity', 'Mesentery', 'Abnormality', 'Independent assortment', 'Hepatitis', 'Urinary system', 'Brucellosis', 'Gynecology', 'Exocrine gland', 'Tumor suppressor gene', 'Proteinaceous infectious particle', 'Ulna', 'Lateral', 'Cytotoxic', 'Tendon', 'Nicotine', 'Lysosome', 'Lipid bilayer', 'Meiosis', 'Drug interaction', 'Muscle tissue', 'Karyotype', 'Interleukin', 'Squamous cell', 'Recessive', 'Cell', 'Microbiology', 'HIV', 'Epiglottis', 'Hematology', 'Infection', 'Drug', 'Mutation', 'Porin', 'Eye', 'Schizophrenia', 'Concussion', 'Biotransformation', 'Mesoderm', 'Contagious', 'Peptide hormone', 'Ovary', 'Anaerobic', 'Histamine', 'Flagellum', 'Interstitial fluid', 'Morphology', 'Schwann cell', 'Anemia', 'Hyperopia', 'Latent', 'Peptide', 'Skin', 'Digestion', 'Epilepsy', 'Meningitis', 'Vesicle', 'Radiation', 'Glomerulus', 'Incision', 'Locus', 'Measles', 'Melatonin', 'Coronary artery disease', 'Hyperventilation', 'Adjuvant', 'Blood pressure', 'Osmosis', 'Circadian rhythm', 'Phenotype', 'Bioavailability', 'Steroid', 'Vitamin K', 'Hemodialysis', 'Body mass index', 'Pupil', 'Cytokine', 'Dyslipidemia', 'Ecosystem', 'Cell culture', 'Organelle', 'Lipase', 'Double helix', 'Cloning', 'Anaemia', 'Biofilm', 'Diabetes mellitus', 'Cohort', 'Hematopoietic stem cell', 'Cytomegalovirus', 'Microcephaly', 'Microfilament', 'Fetus', 'Sodium', 'Inbreeding', 'Cardiac output', 'Demyelination', 'Septum', 'Respiratory distress syndrome', 'Pain receptor', 'Proteinase', 'Cretinism', 'Hallucination', 'Sinoatrial node', 'Polarity', 'Anorexia nervosa', 'Dyspnea', 'Somatic sensory system', 'Totipotent', 'Acute', 'Botulism', 'Mechanical digestion', 'Melanin', 'Somatic nervous system', 'Template', 'Ureter', 'Hemoglobin', 'Coma', 'Second messenger', 'Dementia', 'Suprachiasmatic nucleus', 'Trachea', 'Endocrine gland', 'Salivary gland', 'Duodenum', 'Myelin', 'Lactate', 'Angina', 'Efficacy', 'Analgesic', 'Lumbar', 'Medicine', 'Antibody', 'Diagnosis', 'Dysfunction', 'Surfactant', 'Circulation', 'Carotenoid', 'Embryonic stem cell', 'Ventricular septal defect', 'Lymph', 'Feedback inhibition', 'Calcium', 'Gallbladder', 'Striated muscle', 'Epidemiology', 'Hypotension', 'Post-transcriptional modification', 'Hypotonic', 'Leprosy', 'Skeletal system', 'Adaptive', 'Synaptic cleft', 'Adrenal gland', 'Oncology', 'Excitatory']"
   ]
  },
  {
   "cell_type": "code",
   "execution_count": 11,
   "id": "8cf9af6f-20c9-4593-bbf7-8e9f18647e23",
   "metadata": {},
   "outputs": [],
   "source": [
    "wl_4 = [\"abiotic\", \"absorption\", \"adaptation\", \"adenosine\", \"adhesion\", \"aerobic\", \"allele\", \"allosteric\", \"alternative_splicing\", \"amino_acid\", \"anabolic\", \"anaerobic\", \"anatomy\", \"animal\", \"antibiotic\", \"antigen\", \"apoptosis\", \"archaea\", \"ATP\", \"autotroph\", \"bacteria\", \"base_pair\", \"biochemistry\", \"biodiversity\", \"bioengineering\", \"biogeochemical_cycle\", \"biomass\", \"biome\", \"bioinformatics\", \"biophysics\", \"biosphere\", \"biostatistics\", \"biotechnology\", \"botany\", \"calcium\", \"carbohydrate\", \"carbon_cycle\", \"carrier_protein\", \"catabolic\", \"cell\", \"cellular_respiration\", \"chloroplast\", \"cholera\", \"chromosome\", \"cloning\", \"codominance\", \"codon\", \"coenzyme\", \"community\", \"comparative_genomics\", \"conservation_biology\", \"CRISPR\", \"cryopreservation\", \"cytokinesis\", \"cytoplasm\", \"cytoskeleton\", \"differentiation\", \"diffusion\", \"diploid\", \"DNA\", \"DNA_repair\", \"DNA_sequencing\", \"doctor\", \"dominant\", \"drug_discovery\", \"ecology\", \"ecosystem\", \"electrophoresis\", \"endemic\", \"endoplasmic_reticulum\", \"endosymbiosis\", \"enzyme\", \"epidemiology\", \"epigenetics\", \"epistasis\", \"eukaryote\", \"evolution\", \"exon\", \"extracellular\", \"facilitated_diffusion\", \"fermentation\", \"fertilization\", \"fitness\", \"flagellum\", \"food_chain\", \"food_web\", \"fungi\", \"G_protein\", \"gene\", \"gene_drives\", \"gene_editing\", \"gene_expression\", \"gene_pool\", \"gene_therapy\", \"genetic_code\", \"genetic_drift\", \"genetic_engineering\", \"genetic_linkage\", \"genetics\", \"genome\", \"genomics\", \"genotype\", \"GMO\", \"golgi_apparatus\", \"growth_factor\", \"haploid\", \"heterozygous\", \"heterotroph\", \"histone\", \"homeostasis\", \"homozygous\", \"hormone\", \"host\", \"human_genome\", \"hydrophobic\", \"immune_response\", \"immune_system\", \"immunology\", \"incomplete_dominance\", \"inheritance\", \"intron\", \"in_vitro\", \"in_vivo\", \"ionic_bond\", \"isotope\", \"keystone_species\", \"kinase\", \"ligand\", \"lipid\", \"lysosome\", \"malaria\", \"mammal\", \"marine_biology\", \"meiosis\", \"membrane\", \"metabolic_pathway\", \"metabolism\", \"metamorphosis\", \"microbe\", \"microbiology\", \"microevolution\", \"microorganism\", \"mitochondria\", \"mitosis\", \"molecular_biology\", \"molecule\", \"mutation\", \"mycorrhizae\", \"natural_selection\", \"neurobiology\", \"neuron\", \"niche\", \"nitrogen_cycle\", \"nucleic\"]"
   ]
  },
  {
   "cell_type": "code",
   "execution_count": 12,
   "id": "4bf35bf8-23cf-4afd-bcf7-1dc92fa44ae4",
   "metadata": {},
   "outputs": [
    {
     "data": {
      "text/plain": [
       "1112"
      ]
     },
     "execution_count": 12,
     "metadata": {},
     "output_type": "execute_result"
    }
   ],
   "source": [
    "# words/phrases related to lifescicen and biology\n",
    "all_bio_words = set(wl_1).union(set(wl_2)).union(set(wl_3)).union(set(wl_4))\n",
    "all_bio_words = [w.lower() for w in list(all_bio_words)]\n",
    "len(all_bio_words)"
   ]
  },
  {
   "cell_type": "code",
   "execution_count": 13,
   "id": "668615b2-0bec-4de8-9696-5e745e5315cb",
   "metadata": {},
   "outputs": [],
   "source": [
    "# filter the conceptnet dataset by the compiled bio words\n",
    "res = []\n",
    "for l in json_list:\n",
    "    h = l['head']\n",
    "    if h.lower() in all_bio_words:\n",
    "        entry = {}\n",
    "        for k,v in l.items():\n",
    "            entry[k] = v.lower()\n",
    "        res.append(entry)"
   ]
  },
  {
   "cell_type": "code",
   "execution_count": 14,
   "id": "cc9357bf-b049-49b0-a805-d79b2afd7c3d",
   "metadata": {},
   "outputs": [
    {
     "name": "stdout",
     "output_type": "stream",
     "text": [
      "117\n"
     ]
    }
   ],
   "source": [
    "# keep the heads that have at least 5 tails\n",
    "head_frequency = defaultdict(int)\n",
    "filtered_head_lst = []\n",
    "for l in res:\n",
    "    head_frequency[l['head']]+=1\n",
    "for k,v in head_frequency.items():\n",
    "    if v>=5:\n",
    "        filtered_head_lst.append(k)\n",
    "print(len(filtered_head_lst))"
   ]
  },
  {
   "cell_type": "code",
   "execution_count": 15,
   "id": "caefbad1-cca9-4cc8-826e-40cf3afaca68",
   "metadata": {},
   "outputs": [
    {
     "name": "stdout",
     "output_type": "stream",
     "text": [
      "4314\n"
     ]
    }
   ],
   "source": [
    "# dataset with filtered bio heads\n",
    "filtered_head_df = []\n",
    "for l in res:\n",
    "    h = l['head']\n",
    "    if h in filtered_head_lst:\n",
    "        filtered_head_df.append(l)\n",
    "print(len(filtered_head_df))"
   ]
  },
  {
   "cell_type": "code",
   "execution_count": 16,
   "id": "ab2f1a8a-caa4-438c-953e-d97e88802621",
   "metadata": {},
   "outputs": [],
   "source": [
    "# explore tails\n",
    "def output_relations(head, dataset):\n",
    "    lst = []\n",
    "    for l in dataset:\n",
    "        if l['head']==head:\n",
    "            info = []\n",
    "            info.append(l['relation'])\n",
    "            info.append(l['tail'])\n",
    "            lst.append(info)\n",
    "    print(f'the chosen word is {head}:')\n",
    "    return lst"
   ]
  },
  {
   "cell_type": "code",
   "execution_count": 17,
   "id": "03533f50-e586-4712-a26a-241282078c50",
   "metadata": {},
   "outputs": [
    {
     "name": "stdout",
     "output_type": "stream",
     "text": [
      "the chosen word is microscope:\n",
      "[['atlocation', 'a laboratory'], ['usedfor', 'observing small things'], ['atlocation', 'laboratory'], ['usedfor', 'observe small thing'], ['capableof', 'view very small object'], ['atlocation', 'in laboratory']]\n"
     ]
    }
   ],
   "source": [
    "print(output_relations('microscope', filtered_head_df))"
   ]
  },
  {
   "cell_type": "code",
   "execution_count": 18,
   "id": "35de7983-ecd3-4c3d-b642-b586f5c690fd",
   "metadata": {},
   "outputs": [],
   "source": [
    "stemmer = PorterStemmer()\n",
    "\n",
    "def process_text(text):\n",
    "    stop_words = set(stopwords.words('english'))\n",
    "    words = text.split()\n",
    "    words = [word for word in words if word not in stop_words]\n",
    "    stemmed_words = [stemmer.stem(word) for word in words]\n",
    "    return \" \".join(stemmed_words)"
   ]
  },
  {
   "cell_type": "code",
   "execution_count": 19,
   "id": "97a93003-618a-4ee3-bce0-45ce16822049",
   "metadata": {},
   "outputs": [],
   "source": [
    "# remove stop words/ stemming for tails\n",
    "filtered_head_cleaned_tail_df = filtered_head_df.copy()\n",
    "for l in filtered_head_cleaned_tail_df:\n",
    "    l['tail'] = process_text(l['tail'])"
   ]
  },
  {
   "cell_type": "code",
   "execution_count": 20,
   "id": "751f657b-8c3f-459c-a545-ca841838065c",
   "metadata": {},
   "outputs": [
    {
     "name": "stdout",
     "output_type": "stream",
     "text": [
      "the chosen word is microscope:\n",
      "[['atlocation', 'laboratori'], ['usedfor', 'observ small thing'], ['atlocation', 'laboratori'], ['usedfor', 'observ small thing'], ['capableof', 'view small object'], ['atlocation', 'laboratori']]\n"
     ]
    }
   ],
   "source": [
    "print(output_relations('microscope', filtered_head_cleaned_tail_df))"
   ]
  },
  {
   "cell_type": "code",
   "execution_count": 21,
   "id": "4c3aacfe-2c8b-4166-8cdd-c6b243bf2729",
   "metadata": {},
   "outputs": [
    {
     "data": {
      "text/plain": [
       "3028"
      ]
     },
     "execution_count": 21,
     "metadata": {},
     "output_type": "execute_result"
    }
   ],
   "source": [
    "# dedupe\n",
    "deduper = {}\n",
    "for l in filtered_head_cleaned_tail_df:\n",
    "    k = tuple([l['head'],l['tail']])\n",
    "    deduper[k] = l\n",
    "len(deduper)"
   ]
  },
  {
   "cell_type": "code",
   "execution_count": 22,
   "id": "a96f54f3-4417-4b09-b614-530ff052e410",
   "metadata": {},
   "outputs": [],
   "source": [
    "filtered_head_cleaned_tail_df = list(deduper.values())"
   ]
  },
  {
   "cell_type": "code",
   "execution_count": 23,
   "id": "745fed40-aada-49b5-b32a-99ce0014334f",
   "metadata": {},
   "outputs": [
    {
     "name": "stdout",
     "output_type": "stream",
     "text": [
      "the chosen word is microscope:\n",
      "[['atlocation', 'laboratori'], ['usedfor', 'observ small thing'], ['capableof', 'view small object']]\n"
     ]
    }
   ],
   "source": [
    "print(output_relations('microscope', filtered_head_cleaned_tail_df))"
   ]
  },
  {
   "cell_type": "code",
   "execution_count": 24,
   "id": "ed24946b-b620-4f1f-bdbe-293ec6a06823",
   "metadata": {},
   "outputs": [
    {
     "name": "stdout",
     "output_type": "stream",
     "text": [
      "defaultdict(<class 'int'>, {'3  tails': 36, '1  tails': 2401, '2  tails': 147, '4  tails': 17, '10  tails': 1, '5  tails': 6, '11  tails': 1, '7  tails': 4, '8  tails': 4, '16  tails': 1, '6  tails': 3, '12  tails': 1})\n"
     ]
    }
   ],
   "source": [
    "# explore tail frequency\n",
    "tail_frequency = defaultdict(int)\n",
    "for l in filtered_head_cleaned_tail_df:\n",
    "    tail_frequency[l['tail']]+=1\n",
    "tail_frequency_counter = defaultdict(int)\n",
    "for k,v in tail_frequency.items():\n",
    "    tail_frequency_counter[str(v)+' '+' tails']+=1\n",
    "print(tail_frequency_counter)"
   ]
  },
  {
   "cell_type": "code",
   "execution_count": 25,
   "id": "d7381e09-f3d3-468d-b70f-937d99408317",
   "metadata": {},
   "outputs": [
    {
     "name": "stdout",
     "output_type": "stream",
     "text": [
      "627\n"
     ]
    }
   ],
   "source": [
    "# keep the tails that have at least 2 heads\n",
    "filtered_tail_lst = []\n",
    "for k,v in tail_frequency.items():\n",
    "    if v>=2:\n",
    "        filtered_tail_lst.append(k)\n",
    "\n",
    "final_df = []\n",
    "for l in filtered_head_cleaned_tail_df:\n",
    "    h = l['tail']\n",
    "    if h in filtered_tail_lst:\n",
    "        final_df.append(l)\n",
    "print(len(final_df))"
   ]
  },
  {
   "cell_type": "code",
   "execution_count": 26,
   "id": "9f67a5d0-9f5f-49a0-8697-555983d1b5ec",
   "metadata": {},
   "outputs": [
    {
     "name": "stdout",
     "output_type": "stream",
     "text": [
      "598\n"
     ]
    }
   ],
   "source": [
    "# final filter\n",
    "head_frequency = defaultdict(int)\n",
    "filtered_head_lst = []\n",
    "for l in final_df:\n",
    "    head_frequency[l['head']]+=1\n",
    "for k,v in head_frequency.items():\n",
    "    if v>=2:\n",
    "        filtered_head_lst.append(k)\n",
    "\n",
    "relation_frequency = defaultdict(int)\n",
    "filtered_relation_lst = []\n",
    "for l in final_df:\n",
    "    relation_frequency[l['relation']]+=1\n",
    "for k,v in relation_frequency.items():\n",
    "    if v>=2:\n",
    "        filtered_relation_lst.append(k)\n",
    "\n",
    "# final_df\n",
    "final_final_df = []\n",
    "for l in final_df:\n",
    "    h = l['head']\n",
    "    r = l['relation']\n",
    "    t = l['tail']\n",
    "    if h in filtered_head_lst and r in filtered_relation_lst and t not in ['', ' ']:\n",
    "        final_final_df.append(l)\n",
    "print(len(final_final_df))"
   ]
  },
  {
   "cell_type": "markdown",
   "id": "0c8a4d2f-ac80-4e01-a52b-b0d0103c965f",
   "metadata": {},
   "source": [
    "### Sanity Check"
   ]
  },
  {
   "cell_type": "code",
   "execution_count": 27,
   "id": "acebf21a-335a-4a35-a8b5-7f7251a322e5",
   "metadata": {},
   "outputs": [],
   "source": [
    "from collections import Counter"
   ]
  },
  {
   "cell_type": "code",
   "execution_count": 28,
   "id": "c77e0f06-dbb1-42ae-8847-1b1bc044ce9a",
   "metadata": {},
   "outputs": [],
   "source": [
    "def get_column(x, dataset):\n",
    "    column_lst = []\n",
    "    for l in dataset:\n",
    "        column_lst.append(l[x])\n",
    "    return column_lst"
   ]
  },
  {
   "cell_type": "code",
   "execution_count": 29,
   "id": "de6ca671-f93b-4e7c-933f-4770642a8f2b",
   "metadata": {},
   "outputs": [],
   "source": [
    "heads = get_column('head', final_final_df)\n",
    "tails = get_column('tail', final_final_df)\n",
    "relations = get_column('relation', final_final_df)"
   ]
  },
  {
   "cell_type": "code",
   "execution_count": 30,
   "id": "27409e70-93d8-4171-b943-e143cfcdca1a",
   "metadata": {},
   "outputs": [
    {
     "name": "stdout",
     "output_type": "stream",
     "text": [
      "number of unique heads: 75\n",
      "Counter({'food': 56, 'animal': 44, 'bone': 32, 'alcohol': 30, 'exercise': 28, 'drug': 22, 'hair': 20, 'muscle': 17, 'medicine': 16, 'skin': 15, 'bacteria': 15, 'tooth': 14, 'heart': 13, 'doctor': 13, 'mammal': 12, 'blood': 12, 'foot': 12, 'nerve': 10, 'eye': 9, 'pain': 9, 'liver': 8, 'organ': 8, 'disease': 8, 'molecule': 8, 'brain': 7, 'cell': 6, 'kidney': 6, 'virus': 6, 'laser': 6, 'vitamin': 6, 'depression': 5, 'energy': 5, 'tissue': 5, 'urine': 4, 'cancer': 4, 'cocaine': 4, 'neuron': 4, 'memory': 4, 'stomach': 4, 'nicotine': 3, 'caffeine': 3, 'lung': 3, 'dna': 3, 'vitamin c': 3, 'schizophrenia': 3, 'community': 3, 'high blood pressure': 3, 'nucleus': 3, 'joint': 3, 'morphine': 3, 'iodine': 3, 'surgeon': 3, 'pupil': 3, 'heart attack': 3, 'knee': 3, 'population': 3, 'diaphragm': 3, 'antibiotic': 3, 'flu': 2, 'hemoglobin': 2, 'radiation': 2, 'disinfectant': 2, 'potassium': 2, 'insulin': 2, 'protein': 2, 'obesity': 2, 'diet': 2, 'skeleton': 2, 'membrane': 2, 'carbohydrate': 2, 'steroid': 2, 'psychiatrist': 2, 'gene': 2, 'headache': 2, 'element': 2})\n"
     ]
    }
   ],
   "source": [
    "heads = Counter(heads)\n",
    "print(f'number of unique heads: {len(heads)}')\n",
    "print(heads)"
   ]
  },
  {
   "cell_type": "code",
   "execution_count": 31,
   "id": "c3f72600-ca3c-48fc-9f51-38be6b1aec63",
   "metadata": {},
   "outputs": [
    {
     "name": "stdout",
     "output_type": "stream",
     "text": [
      "number of unique tails: 218\n",
      "Counter({'bodi': 16, 'human bodi': 12, 'organ': 11, 'person': 10, 'anim': 8, 'eat': 7, 'good': 7, 'hospit': 7, 'bad': 7, 'human': 7, 'fun': 6, 'cell': 6, 'cabinet': 6, 'citi': 6, 'medicin chest': 6, 'addict': 5, 'kill': 5, 'mammal': 5, 'move': 5, 'doctor': 5, 'lose weight': 4, 'restaur': 4, 'hous': 4, 'often': 4, 'drink': 4, 'arm': 4, 'life': 4, 'school': 4, 'finger': 4, 'meat': 4, 'food': 4, 'skin': 4, 'danger': 4, 'pain': 4, 'muscl': 4, 'grind': 4, 'cupboard': 3, 'pantri': 3, 'fruit': 3, 'plate': 3, 'live': 3, 'water': 3, 'liquid': 3, 'chemic': 3, 'substanc': 3, 'danc': 3, 'diseas': 3, 'home': 3, 'burn': 3, 'depress': 3, 'mouth': 3, 'ill': 3, 'becom inebri': 3, 'fur': 3, 'use': 3, 'play': 3, 'refriger': 3, 'zoo': 3, 'dentist': 3, 'natur': 3, 'forest': 3, 'calcium': 3, 'break': 3, 'leg': 3, 'medicin cabinet': 3, 'differ color': 3, 'make person sick': 3, 'find hospit': 3, 'run': 2, 'restur': 2, 'toilet': 2, 'fall': 2, 'red': 2, 'donkey': 2, 'good health': 2, 'hotel': 2, 'jar': 2, 'stimul': 2, 'wolf': 2, 'mole': 2, 'head': 2, 'usual': 2, 'shelf': 2, 'protect bodi': 2, 'vein': 2, 'bodili fluid': 2, 'wineri': 2, 'groceri store': 2, 'activ': 2, 'complex molecul': 2, 'contain': 2, 'stay fit': 2, 'part leg': 2, 'illeg': 2, 'carbon': 2, 'edibl': 2, 'comput': 2, 'live long': 2, 'fair': 2, 'church': 2, 'fuel': 2, 'everywher': 2, 'tissu': 2, 'element': 2, 'cloud mind': 2, 'hormon': 2, 'prohibit': 2, 'backpack': 2, 'sed pain-kil': 2, 'intern organ': 2, 'farm': 2, 'oxygen': 2, 'foot': 2, 'drug': 2, 'fight': 2, 'petri dish': 2, 'essenti life': 2, 'necessari life': 2, 'import health': 2, 'build': 2, 'closet': 2, 'store': 2, 'beach': 2, 'state park': 2, 'mall': 2, 'dinner': 2, 'boat': 2, 'ground': 2, 'decor': 2, \"friend' wed\": 2, 'requir good health': 2, 'vari colour': 2, 'bleed cut': 2, 'treat ill': 2, 'fight diseas': 2, 'heart attack': 2, 'war': 2, 'fairground': 2, 'rug': 2, 'sometim': 2, 'face': 2, 'jog': 2, 'lift weight': 2, 'drain': 2, 'work': 2, 'jail': 2, 'wast bin': 2, 'gym': 2, 'die': 2, 'microscop': 2, 'miner': 2, 'lower cholesterol': 2, 'read': 2, 'feel pain': 2, 'park': 2, 'sens pain': 2, 'sex': 2, 'cost lot': 2, 'small': 2, 'bed': 2, 'concert': 2, 'walk': 2, 'hand': 2, 'eye': 2, 'tabl': 2, 'love': 2, 'bite': 2, 'brain': 2, 'museum': 2, 'heal': 2, 'person head': 2, 'measur': 2, 'bodi part': 2, 'drugstor': 2, 'atom': 2, 'part human bodi': 2, 'feel emot': 2, 'bottl': 2, 'biolog organ': 2, 'meadow': 2, 'mutat': 2, 'maintain health': 2, 'laboratori': 2, 'tear': 2, 'organ bodi': 2, 'skeleton': 2, 'dog mouth': 2, 'cure ill': 2, 'get healthi': 2, 'dog': 2, 'nervou system': 2, 'chromosom': 2, 'human abdomin organ': 2, 'friend wed': 2, 'breath': 2, 'someth': 2, 'filter': 2, 'battl diseas': 2, 'pain person': 2, 'surround membran': 2, 'studi': 2, 'low blood pressur': 2, 'ear': 2, 'jaw': 2, 'kill person': 2, 'univers': 2, 'low cholesterol': 2, 'maintain good health': 2, 'suitcas': 2, 'viru': 1, 'death': 1, 'flexibl': 1, 'unhealthi': 1, 'space': 1, 'experi': 1, 'caus stress': 1, 'air': 1, 'breast': 1})\n"
     ]
    }
   ],
   "source": [
    "tails = Counter(tails)\n",
    "print(f'number of unique tails: {len(tails)}')\n",
    "print(tails)"
   ]
  },
  {
   "cell_type": "code",
   "execution_count": 32,
   "id": "4c3dc291-c4f3-4ccf-963c-c2950158027d",
   "metadata": {},
   "outputs": [
    {
     "name": "stdout",
     "output_type": "stream",
     "text": [
      "number of unique relations: 14\n",
      "Counter({'atlocation': 228, 'isa': 90, 'capableof': 55, 'hasproperty': 54, 'usedfor': 52, 'partof': 50, 'hasa': 17, 'receivesaction': 14, 'causesdesire': 12, 'causes': 7, 'hasprerequisite': 6, 'madeof': 5, 'hassubevent': 4, 'motivatedbygoal': 4})\n"
     ]
    }
   ],
   "source": [
    "relations = Counter(relations)\n",
    "print(f'number of unique relations: {len(relations)}')\n",
    "print(relations)"
   ]
  },
  {
   "cell_type": "markdown",
   "id": "fa77a824-99a8-4513-b0f1-1e69e7356e7c",
   "metadata": {},
   "source": [
    "### Output Training Dataset"
   ]
  },
  {
   "cell_type": "code",
   "execution_count": 33,
   "id": "1c341858-6f91-48e3-88b1-733dc259ecd0",
   "metadata": {},
   "outputs": [],
   "source": [
    "import numpy as np"
   ]
  },
  {
   "cell_type": "code",
   "execution_count": 34,
   "id": "f9760aeb-90cc-4f02-9a2b-b665e6609023",
   "metadata": {},
   "outputs": [
    {
     "data": {
      "text/plain": [
       "{'relation': 'hasprerequisite', 'head': 'exercise', 'tail': 'run'}"
      ]
     },
     "execution_count": 34,
     "metadata": {},
     "output_type": "execute_result"
    }
   ],
   "source": [
    "final_final_df[0]"
   ]
  },
  {
   "cell_type": "code",
   "execution_count": 35,
   "id": "29866343-8d0b-44a0-a889-deee834b158b",
   "metadata": {},
   "outputs": [
    {
     "name": "stdout",
     "output_type": "stream",
     "text": [
      "number of training entries: 250 \n",
      "\n",
      "['run', 'move', 'jog', 'lift weight', 'danc', 'muscl']\n"
     ]
    }
   ],
   "source": [
    "groupby_h_r = defaultdict(list)\n",
    "for l in final_final_df:\n",
    "    k = tuple([l['head'], l['relation']])\n",
    "    groupby_h_r[k].append(l['tail'])\n",
    "    \n",
    "print(f'number of training entries: {len(groupby_h_r)} \\n')\n",
    "\n",
    "print(groupby_h_r[('exercise', 'hasprerequisite')])"
   ]
  },
  {
   "cell_type": "code",
   "execution_count": 36,
   "id": "a352ae2e-b525-4846-8f76-6ca43c0ab591",
   "metadata": {},
   "outputs": [
    {
     "name": "stdout",
     "output_type": "stream",
     "text": [
      "{'atlocation': 0, 'capableof': 1, 'causes': 2, 'causesdesire': 3, 'hasa': 4, 'hasprerequisite': 5, 'hasproperty': 6, 'hassubevent': 7, 'isa': 8, 'madeof': 9, 'motivatedbygoal': 10, 'partof': 11, 'receivesaction': 12, 'usedfor': 13}\n"
     ]
    }
   ],
   "source": [
    "# zero-one hot encoding\n",
    "head_index = {}\n",
    "tail_index = {}\n",
    "relation_index = {}\n",
    "\n",
    "head_list = sorted(list(heads.keys()))\n",
    "tail_list = sorted(list(tails.keys()))\n",
    "relation_list = sorted(list(relations.keys()))\n",
    "\n",
    "for idx, k in enumerate(head_list):\n",
    "    head_index[k]=idx\n",
    "for idx, k in enumerate(tail_list):\n",
    "    tail_index[k]=idx\n",
    "for idx, k in enumerate(relation_list):\n",
    "    relation_index[k]=idx\n",
    "    \n",
    "assert len(head_index)==75\n",
    "assert len(tail_index)==218\n",
    "assert len(relation_index)==14\n",
    "print(relation_index)"
   ]
  },
  {
   "cell_type": "code",
   "execution_count": 37,
   "id": "a11aa728-1470-4ed6-9830-dc163232ca7a",
   "metadata": {},
   "outputs": [],
   "source": [
    "# zero-one hot encoding\n",
    "matrix = np.zeros((250, 75+14+218))\n",
    "\n",
    "i=0\n",
    "for k,v in groupby_h_r.items():\n",
    "    head_, relation_ = k \n",
    "    h_idx = head_index[head_]\n",
    "    r_idx = relation_index[relation_]+75\n",
    "    t_idx = [tail_index[tail_]+75+14 for tail_ in v]\n",
    "    \n",
    "    ones_idx = t_idx.copy()\n",
    "    ones_idx.append(h_idx)\n",
    "    ones_idx.append(r_idx)\n",
    "    \n",
    "    matrix[i, ones_idx] = 1\n",
    "    i+=1"
   ]
  },
  {
   "cell_type": "code",
   "execution_count": 38,
   "id": "1567487a-a6d4-41d9-97b3-0f98739b09da",
   "metadata": {},
   "outputs": [],
   "source": [
    "matrix = matrix.astype(int)"
   ]
  },
  {
   "cell_type": "code",
   "execution_count": 39,
   "id": "00a23245-56a4-4ab4-ace0-1695cbb37a22",
   "metadata": {},
   "outputs": [
    {
     "name": "stdout",
     "output_type": "stream",
     "text": [
      "['exercise'] and ['hasprerequisite'] has tails: ['danc' 'jog' 'lift weight' 'move' 'muscl' 'run']\n"
     ]
    }
   ],
   "source": [
    "# sanity check for marix[0]\n",
    "example = matrix[0].astype('int')\n",
    "\n",
    "head_list = np.array(head_list)\n",
    "relation_list = np.array(relation_list)\n",
    "tail_list = np.array(tail_list)\n",
    "\n",
    "hh = head_list[example[:75].astype(bool)]\n",
    "rr = relation_list[example[75:75+14].astype(bool)]\n",
    "tt = tail_list[example[75+14:].astype(bool)]\n",
    "\n",
    "print(f'{hh} and {rr} has tails: {tt}')"
   ]
  },
  {
   "cell_type": "code",
   "execution_count": 40,
   "id": "35e760cd-83c3-4be8-9ca5-10a27d81a99e",
   "metadata": {},
   "outputs": [
    {
     "name": "stdout",
     "output_type": "stream",
     "text": [
      "['run', 'move', 'jog', 'lift weight', 'danc', 'muscl']\n"
     ]
    }
   ],
   "source": [
    "print(groupby_h_r[('exercise', 'hasprerequisite')])"
   ]
  },
  {
   "cell_type": "code",
   "execution_count": 41,
   "id": "05fed2e0-0f54-4d78-a889-99391336421b",
   "metadata": {},
   "outputs": [],
   "source": [
    "# save as txt files\n",
    "with open(\"1016data/sem_data.txt\", \"w\") as file:\n",
    "    np.savetxt(file, matrix)"
   ]
  },
  {
   "cell_type": "code",
   "execution_count": 42,
   "id": "6c4316c9-1851-4f2c-8912-6881ced1ce86",
   "metadata": {},
   "outputs": [],
   "source": [
    "with open('1016data/sem_items.txt', \"w\") as file:\n",
    "    for string in head_list:\n",
    "        file.write(string + \"\\n\")"
   ]
  },
  {
   "cell_type": "code",
   "execution_count": 43,
   "id": "d8fbc147-a634-4489-a2b6-0d8af415aa9e",
   "metadata": {},
   "outputs": [],
   "source": [
    "with open('1016data/sem_relations.txt', \"w\") as file:\n",
    "    for string in relation_list:\n",
    "        file.write(string + \"\\n\")"
   ]
  },
  {
   "cell_type": "code",
   "execution_count": 44,
   "id": "159c8c17-8262-4cb3-bcd6-1f1a5abf44bd",
   "metadata": {},
   "outputs": [],
   "source": [
    "with open('1016data/sem_attributes.txt', \"w\") as file:\n",
    "    for string in tail_list:\n",
    "        file.write(string + \"\\n\")"
   ]
  },
  {
   "cell_type": "code",
   "execution_count": 50,
   "id": "336e3162-682e-4603-a714-d1d1d6eae1bf",
   "metadata": {},
   "outputs": [],
   "source": [
    "import pandas as pd"
   ]
  },
  {
   "cell_type": "code",
   "execution_count": 51,
   "id": "0e08583d-8f1e-47ad-b8bf-e0c5d7d7da4d",
   "metadata": {},
   "outputs": [],
   "source": [
    "df = pd.DataFrame(final_final_df)"
   ]
  },
  {
   "cell_type": "code",
   "execution_count": 53,
   "id": "e48fb89c-1c25-4478-8fd5-84a59a5c344f",
   "metadata": {},
   "outputs": [],
   "source": [
    "df.to_csv('bio_concepts.csv',index=False)"
   ]
  },
  {
   "cell_type": "code",
   "execution_count": null,
   "id": "e4994e76-913a-45fc-9866-11c6eef6bcaf",
   "metadata": {},
   "outputs": [],
   "source": []
  },
  {
   "cell_type": "code",
   "execution_count": null,
   "id": "59aa118b-a12e-4a96-a3e1-d4659b9551ba",
   "metadata": {},
   "outputs": [],
   "source": []
  }
 ],
 "metadata": {
  "kernelspec": {
   "display_name": "Python 3 (ipykernel)",
   "language": "python",
   "name": "python3"
  },
  "language_info": {
   "codemirror_mode": {
    "name": "ipython",
    "version": 3
   },
   "file_extension": ".py",
   "mimetype": "text/x-python",
   "name": "python",
   "nbconvert_exporter": "python",
   "pygments_lexer": "ipython3",
   "version": "3.8.13"
  }
 },
 "nbformat": 4,
 "nbformat_minor": 5
}
