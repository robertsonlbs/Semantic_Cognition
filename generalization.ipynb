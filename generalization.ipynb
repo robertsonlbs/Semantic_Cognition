{
 "cells": [
  {
   "cell_type": "code",
   "execution_count": 1,
   "id": "3e0d54a2-97a3-4057-b7b7-85be31acfe90",
   "metadata": {},
   "outputs": [],
   "source": [
    "import pandas as pd\n",
    "import matplotlib\n",
    "%matplotlib inline\n",
    "import matplotlib.pyplot as plt\n",
    "import numpy as np\n",
    "import torch\n",
    "import torch.nn as nn\n",
    "from torch.nn.functional import sigmoid, relu"
   ]
  },
  {
   "cell_type": "markdown",
   "id": "f5e46a06-4a4d-440a-9ced-8eef5843bd96",
   "metadata": {},
   "source": [
    "### Load Data"
   ]
  },
  {
   "cell_type": "code",
   "execution_count": 2,
   "id": "810bb5b4-62ac-40a9-b78f-e8ab0ceb0cd3",
   "metadata": {},
   "outputs": [
    {
     "name": "stdout",
     "output_type": "stream",
     "text": [
      "num of objects: 75\n",
      "num of relations: 14\n",
      "num of attributes: 218\n"
     ]
    }
   ],
   "source": [
    "with open('1016data/sem_items.txt','r') as fid:\n",
    "    names_items = np.array([l.strip() for l in fid.readlines()])\n",
    "with open('1016data/sem_relations.txt','r') as fid:\n",
    "    names_relations = np.array([l.strip() for l in fid.readlines()])\n",
    "with open('1016data/sem_attributes.txt','r') as fid:\n",
    "    names_attributes = np.array([l.strip() for l in fid.readlines()])\n",
    "        \n",
    "nobj = len(names_items)\n",
    "nrel = len(names_relations)\n",
    "nattributes = len(names_attributes)\n",
    "print(f'num of objects: {nobj}')\n",
    "print(f'num of relations: {nrel}')\n",
    "print(f'num of attributes: {nattributes}')"
   ]
  },
  {
   "cell_type": "code",
   "execution_count": 3,
   "id": "75e24d78-4b01-4c71-a4c2-ac4bd35ec566",
   "metadata": {},
   "outputs": [
    {
     "name": "stdout",
     "output_type": "stream",
     "text": [
      "num of training examples: 250\n",
      "Example input pattern:\n",
      "[0 0 0 0 0 0 0 0 0 0 0 0 0 0 0 0 0 0 0 0 0 0 0 1 0 0 0 0 0 0 0 0 0 0 0 0 0\n",
      " 0 0 0 0 0 0 0 0 0 0 0 0 0 0 0 0 0 0 0 0 0 0 0 0 0 0 0 0 0 0 0 0 0 0 0 0 0\n",
      " 0 0 0 0 0 0 1 0 0 0 0 0 0 0 0]\n",
      "Example output pattern:\n",
      "[0 0 0 0 0 0 0 0 0 0 0 0 0 0 0 0 0 0 0 0 0 0 0 0 0 0 0 0 0 0 0 0 0 0 0 0 0\n",
      " 0 0 0 0 0 0 0 1 0 0 0 0 0 0 0 0 0 0 0 0 0 0 0 0 0 0 0 0 0 0 0 0 0 0 0 0 0\n",
      " 0 0 0 0 0 0 0 0 0 0 0 0 0 0 0 0 0 0 0 0 0 0 0 0 0 0 0 0 0 0 0 0 0 0 0 0 0\n",
      " 0 0 0 0 0 0 0 1 0 0 0 0 0 1 0 0 0 0 0 0 0 0 0 0 0 0 0 0 0 0 0 0 0 0 0 0 1\n",
      " 1 0 0 0 0 0 0 0 0 0 0 0 0 0 0 0 0 0 0 0 0 0 0 0 0 0 0 0 0 0 1 0 0 0 0 0 0\n",
      " 0 0 0 0 0 0 0 0 0 0 0 0 0 0 0 0 0 0 0 0 0 0 0 0 0 0 0 0 0 0 0 0 0]\n",
      "\n",
      "Which encodes...\n",
      "Item ['exercise']\n",
      "Relation ['hasprerequisite']\n",
      "Attributes ['danc' 'jog' 'lift weight' 'move' 'muscl' 'run']\n",
      "num of attributes: 218\n"
     ]
    }
   ],
   "source": [
    "D = np.loadtxt('1016data/sem_data.txt')\n",
    "input_pats = D[:,:nobj+nrel]\n",
    "input_pats = torch.tensor(input_pats,dtype=torch.float)\n",
    "output_pats = D[:,nobj+nrel:]\n",
    "output_pats = torch.tensor(output_pats,dtype=torch.float)\n",
    "N = input_pats.shape[0] # number of training patterns\n",
    "print(f'num of training examples: {N}')\n",
    "\n",
    "input_v = input_pats[0,:].numpy().astype('bool')\n",
    "output_v = output_pats[0,:].numpy().astype('bool')\n",
    "print('Example input pattern:')\n",
    "print(input_v.astype('int'))\n",
    "print('Example output pattern:')\n",
    "print(output_v.astype('int'))\n",
    "print(\"\")\n",
    "print(\"Which encodes...\")\n",
    "print('Item ',end='')\n",
    "print(names_items[input_v[:75]])\n",
    "print('Relation ',end='')\n",
    "print(names_relations[input_v[75:]])\n",
    "print('Attributes ',end='')\n",
    "print(names_attributes[output_v])\n",
    "print(f'num of attributes: {nattributes}')"
   ]
  },
  {
   "cell_type": "code",
   "execution_count": 4,
   "id": "40f3aff7-379d-4a4d-8b1e-68140432e9ce",
   "metadata": {},
   "outputs": [],
   "source": [
    "class Net(nn.Module):\n",
    "    def __init__(self, rep_size, hidden_size, layer_1_size, hidden_rel_size):\n",
    "        super(Net, self).__init__()\n",
    "        self.itol1 = nn.Linear(nobj, layer_1_size)\n",
    "        self.l1tor = nn.Linear(layer_1_size, rep_size)\n",
    "        self.reltohr = nn.Linear(nrel, hidden_rel_size)\n",
    "        self.cattoh = nn.Linear(rep_size+hidden_rel_size, hidden_size)\n",
    "        self.htoa = nn.Linear(hidden_size, nattributes)\n",
    "\n",
    "    def forward(self, x):\n",
    "        x = x.view(-1,nobj+nrel)\n",
    "        x_pat_item = x[:,:nobj]\n",
    "        x_pat_rel = x[:,nobj:]\n",
    "        layer1 = relu(self.itol1(x_pat_item))\n",
    "        rep = relu(self.l1tor(layer1))\n",
    "        rel = relu(self.reltohr(x_pat_rel))\n",
    "        reprel = torch.cat((rep, rel), dim=1)\n",
    "        hidden = relu(self.cattoh(reprel))\n",
    "        output = self.htoa(hidden)\n",
    "        return output, hidden, rep"
   ]
  },
  {
   "cell_type": "code",
   "execution_count": 5,
   "id": "b0f8252a-27fc-4309-9c9d-421b0cd8d34e",
   "metadata": {},
   "outputs": [
    {
     "data": {
      "text/plain": [
       "Net(\n",
       "  (itol1): Linear(in_features=75, out_features=75, bias=True)\n",
       "  (l1tor): Linear(in_features=75, out_features=75, bias=True)\n",
       "  (reltohr): Linear(in_features=14, out_features=30, bias=True)\n",
       "  (cattoh): Linear(in_features=105, out_features=200, bias=True)\n",
       "  (htoa): Linear(in_features=200, out_features=218, bias=True)\n",
       ")"
      ]
     },
     "execution_count": 5,
     "metadata": {},
     "output_type": "execute_result"
    }
   ],
   "source": [
    "mynet = Net(rep_size=75,hidden_size=200, layer_1_size=75, hidden_rel_size=30)\n",
    "PATH = 'model_complex.pt'\n",
    "mynet.load_state_dict(torch.load(PATH))\n",
    "mynet.eval()"
   ]
  },
  {
   "cell_type": "code",
   "execution_count": 6,
   "id": "e81a26a8-f629-40e7-a45d-7709e4ee2faa",
   "metadata": {},
   "outputs": [
    {
     "data": {
      "text/html": [
       "<div>\n",
       "<style scoped>\n",
       "    .dataframe tbody tr th:only-of-type {\n",
       "        vertical-align: middle;\n",
       "    }\n",
       "\n",
       "    .dataframe tbody tr th {\n",
       "        vertical-align: top;\n",
       "    }\n",
       "\n",
       "    .dataframe thead th {\n",
       "        text-align: right;\n",
       "    }\n",
       "</style>\n",
       "<table border=\"1\" class=\"dataframe\">\n",
       "  <thead>\n",
       "    <tr style=\"text-align: right;\">\n",
       "      <th></th>\n",
       "      <th>relation</th>\n",
       "      <th>head</th>\n",
       "      <th>tail</th>\n",
       "    </tr>\n",
       "  </thead>\n",
       "  <tbody>\n",
       "    <tr>\n",
       "      <th>0</th>\n",
       "      <td>hasprerequisite</td>\n",
       "      <td>exercise</td>\n",
       "      <td>run</td>\n",
       "    </tr>\n",
       "    <tr>\n",
       "      <th>1</th>\n",
       "      <td>hassubevent</td>\n",
       "      <td>exercise</td>\n",
       "      <td>lose weight</td>\n",
       "    </tr>\n",
       "    <tr>\n",
       "      <th>2</th>\n",
       "      <td>isa</td>\n",
       "      <td>mammal</td>\n",
       "      <td>person</td>\n",
       "    </tr>\n",
       "    <tr>\n",
       "      <th>3</th>\n",
       "      <td>atlocation</td>\n",
       "      <td>food</td>\n",
       "      <td>restur</td>\n",
       "    </tr>\n",
       "    <tr>\n",
       "      <th>4</th>\n",
       "      <td>atlocation</td>\n",
       "      <td>food</td>\n",
       "      <td>cupboard</td>\n",
       "    </tr>\n",
       "  </tbody>\n",
       "</table>\n",
       "</div>"
      ],
      "text/plain": [
       "          relation      head         tail\n",
       "0  hasprerequisite  exercise          run\n",
       "1      hassubevent  exercise  lose weight\n",
       "2              isa    mammal       person\n",
       "3       atlocation      food       restur\n",
       "4       atlocation      food     cupboard"
      ]
     },
     "execution_count": 6,
     "metadata": {},
     "output_type": "execute_result"
    }
   ],
   "source": [
    "df = pd.read_csv('bio_concepts.csv')\n",
    "df.head(5)"
   ]
  },
  {
   "cell_type": "markdown",
   "id": "acc5d6bc-1c47-4bf1-9c06-2956224424a6",
   "metadata": {},
   "source": [
    "### Explore df"
   ]
  },
  {
   "cell_type": "code",
   "execution_count": 7,
   "id": "678b26b4-a675-4d16-ba45-166a320a5ed8",
   "metadata": {},
   "outputs": [
    {
     "data": {
      "text/html": [
       "<div>\n",
       "<style scoped>\n",
       "    .dataframe tbody tr th:only-of-type {\n",
       "        vertical-align: middle;\n",
       "    }\n",
       "\n",
       "    .dataframe tbody tr th {\n",
       "        vertical-align: top;\n",
       "    }\n",
       "\n",
       "    .dataframe thead th {\n",
       "        text-align: right;\n",
       "    }\n",
       "</style>\n",
       "<table border=\"1\" class=\"dataframe\">\n",
       "  <thead>\n",
       "    <tr style=\"text-align: right;\">\n",
       "      <th></th>\n",
       "      <th>relation</th>\n",
       "      <th>head</th>\n",
       "      <th>tail</th>\n",
       "    </tr>\n",
       "  </thead>\n",
       "  <tbody>\n",
       "    <tr>\n",
       "      <th>6</th>\n",
       "      <td>partof</td>\n",
       "      <td>liver</td>\n",
       "      <td>organ</td>\n",
       "    </tr>\n",
       "    <tr>\n",
       "      <th>31</th>\n",
       "      <td>isa</td>\n",
       "      <td>brain</td>\n",
       "      <td>organ</td>\n",
       "    </tr>\n",
       "    <tr>\n",
       "      <th>32</th>\n",
       "      <td>isa</td>\n",
       "      <td>eye</td>\n",
       "      <td>organ</td>\n",
       "    </tr>\n",
       "    <tr>\n",
       "      <th>45</th>\n",
       "      <td>partof</td>\n",
       "      <td>heart</td>\n",
       "      <td>organ</td>\n",
       "    </tr>\n",
       "    <tr>\n",
       "      <th>67</th>\n",
       "      <td>isa</td>\n",
       "      <td>animal</td>\n",
       "      <td>organ</td>\n",
       "    </tr>\n",
       "    <tr>\n",
       "      <th>68</th>\n",
       "      <td>isa</td>\n",
       "      <td>bacteria</td>\n",
       "      <td>organ</td>\n",
       "    </tr>\n",
       "    <tr>\n",
       "      <th>140</th>\n",
       "      <td>partof</td>\n",
       "      <td>tissue</td>\n",
       "      <td>organ</td>\n",
       "    </tr>\n",
       "    <tr>\n",
       "      <th>413</th>\n",
       "      <td>partof</td>\n",
       "      <td>organ</td>\n",
       "      <td>organ</td>\n",
       "    </tr>\n",
       "    <tr>\n",
       "      <th>425</th>\n",
       "      <td>partof</td>\n",
       "      <td>stomach</td>\n",
       "      <td>organ</td>\n",
       "    </tr>\n",
       "    <tr>\n",
       "      <th>431</th>\n",
       "      <td>isa</td>\n",
       "      <td>virus</td>\n",
       "      <td>organ</td>\n",
       "    </tr>\n",
       "    <tr>\n",
       "      <th>475</th>\n",
       "      <td>atlocation</td>\n",
       "      <td>nerve</td>\n",
       "      <td>organ</td>\n",
       "    </tr>\n",
       "  </tbody>\n",
       "</table>\n",
       "</div>"
      ],
      "text/plain": [
       "       relation      head   tail\n",
       "6        partof     liver  organ\n",
       "31          isa     brain  organ\n",
       "32          isa       eye  organ\n",
       "45       partof     heart  organ\n",
       "67          isa    animal  organ\n",
       "68          isa  bacteria  organ\n",
       "140      partof    tissue  organ\n",
       "413      partof     organ  organ\n",
       "425      partof   stomach  organ\n",
       "431         isa     virus  organ\n",
       "475  atlocation     nerve  organ"
      ]
     },
     "execution_count": 7,
     "metadata": {},
     "output_type": "execute_result"
    }
   ],
   "source": [
    "df[df['tail']=='organ']"
   ]
  },
  {
   "cell_type": "code",
   "execution_count": 8,
   "id": "70172fb0-ccf5-47df-b869-a68ad566329e",
   "metadata": {},
   "outputs": [
    {
     "name": "stdout",
     "output_type": "stream",
     "text": [
      "bladder could be used for generalizations, with known attributes like bladder isa organ and bladder hasa muscl\n"
     ]
    },
    {
     "data": {
      "text/html": [
       "<div>\n",
       "<style scoped>\n",
       "    .dataframe tbody tr th:only-of-type {\n",
       "        vertical-align: middle;\n",
       "    }\n",
       "\n",
       "    .dataframe tbody tr th {\n",
       "        vertical-align: top;\n",
       "    }\n",
       "\n",
       "    .dataframe thead th {\n",
       "        text-align: right;\n",
       "    }\n",
       "</style>\n",
       "<table border=\"1\" class=\"dataframe\">\n",
       "  <thead>\n",
       "    <tr style=\"text-align: right;\">\n",
       "      <th></th>\n",
       "      <th>relation</th>\n",
       "      <th>head</th>\n",
       "      <th>tail</th>\n",
       "    </tr>\n",
       "  </thead>\n",
       "  <tbody>\n",
       "  </tbody>\n",
       "</table>\n",
       "</div>"
      ],
      "text/plain": [
       "Empty DataFrame\n",
       "Columns: [relation, head, tail]\n",
       "Index: []"
      ]
     },
     "execution_count": 8,
     "metadata": {},
     "output_type": "execute_result"
    }
   ],
   "source": [
    "print('bladder could be used for generalizations, with known attributes like bladder isa organ and bladder hasa muscl')\n",
    "filt = (df['head']=='bladder')\n",
    "df[filt]"
   ]
  },
  {
   "cell_type": "markdown",
   "id": "bf1f4681-8292-4c02-88d3-a03e502af1a5",
   "metadata": {},
   "source": [
    "### One-Hot Encoding"
   ]
  },
  {
   "cell_type": "code",
   "execution_count": 9,
   "id": "a2dd7ac2-28ed-4fd7-8ed7-db8c860ff105",
   "metadata": {},
   "outputs": [],
   "source": [
    "head_index = {}\n",
    "for idx, i in enumerate(names_items):\n",
    "    head_index[i]=idx\n",
    "    \n",
    "tail_index = {}\n",
    "for idx, i in enumerate(names_attributes):\n",
    "    tail_index[i]=idx\n",
    "    \n",
    "relation_index = {}\n",
    "for idx, i in enumerate(names_relations):\n",
    "    relation_index[i]=idx\n",
    "    \n",
    "assert len(head_index)==75\n",
    "assert len(tail_index)==218\n",
    "assert len(relation_index)==14"
   ]
  },
  {
   "cell_type": "code",
   "execution_count": 10,
   "id": "681df127-32c6-4bcb-99e4-4010f8c118c7",
   "metadata": {},
   "outputs": [],
   "source": [
    "def one_hot_encoding(head, relation, tail, generalization=False):\n",
    "    if generalization:\n",
    "        vector = np.zeros(76+14)\n",
    "        h_idx = 75  # the generalized concept will take the last spot\n",
    "        r_idx = relation_index[relation]+76\n",
    "    else:\n",
    "        vector = np.zeros(75+14)\n",
    "        h_idx = head_index[head]\n",
    "        r_idx = relation_index[relation]+75\n",
    "        \n",
    "    output_vector = np.zeros(218)\n",
    "    t_idx = tail_index[tail]  # used to identify the index of attributes\n",
    "    output_vector[t_idx] = 1\n",
    "    output_vector = torch.tensor(output_vector, dtype=torch.float).reshape(1,-1)\n",
    "    \n",
    "    vector[h_idx] = 1\n",
    "    vector[r_idx] = 1\n",
    "    vector = torch.tensor(vector,dtype=torch.float).reshape(1, -1)\n",
    "    return vector, output_vector"
   ]
  },
  {
   "cell_type": "markdown",
   "id": "9707f216-fdce-4686-922d-a43f3a254912",
   "metadata": {},
   "source": [
    "### Generalization"
   ]
  },
  {
   "cell_type": "code",
   "execution_count": 11,
   "id": "729ec47b-bff1-4b6f-b0a3-c2b6f5fa83b0",
   "metadata": {},
   "outputs": [],
   "source": [
    "class GeneralizationNet(nn.Module):\n",
    "    def __init__(self, rep_size, hidden_size, layer_1_size, hidden_rel_size):\n",
    "        super(GeneralizationNet, self).__init__()\n",
    "        self.itol1 = nn.Linear(nobj+1, layer_1_size)\n",
    "        self.l1tor = nn.Linear(layer_1_size, rep_size)\n",
    "        self.reltohr = nn.Linear(nrel, hidden_rel_size)\n",
    "        self.cattoh = nn.Linear(rep_size+hidden_rel_size, hidden_size)\n",
    "        self.htoa = nn.Linear(hidden_size, nattributes)\n",
    "\n",
    "    def forward(self, x):\n",
    "        x = x.view(-1,nobj+1+nrel)\n",
    "        x_pat_item = x[:,:nobj+1]\n",
    "        x_pat_rel = x[:,nobj+1:]\n",
    "        layer1 = relu(self.itol1(x_pat_item))\n",
    "        rep = relu(self.l1tor(layer1))\n",
    "        rel = relu(self.reltohr(x_pat_rel))\n",
    "        reprel = torch.cat((rep, rel), dim=1)\n",
    "        hidden = relu(self.cattoh(reprel))\n",
    "        output = self.htoa(hidden)\n",
    "        return output, hidden, rep"
   ]
  },
  {
   "cell_type": "code",
   "execution_count": 12,
   "id": "3765f41a-cb48-4689-b8fd-73e6928a1d5f",
   "metadata": {},
   "outputs": [],
   "source": [
    "# load the state dict into newnet\n",
    "newnet = GeneralizationNet(rep_size=75,hidden_size=200, layer_1_size=75, hidden_rel_size=30)\n",
    "# copy the parameters from mynet to newnet\n",
    "newnet.itol1.weight.data[:, :-1] = mynet.itol1.weight.data\n",
    "newnet.itol1.bias.data = mynet.itol1.bias.data\n",
    "\n",
    "newnet.l1tor.weight.data = mynet.l1tor.weight.data\n",
    "newnet.l1tor.bias.data = mynet.l1tor.bias.data\n",
    "\n",
    "newnet.reltohr.weight.data = mynet.reltohr.weight.data\n",
    "newnet.reltohr.bias.data = mynet.reltohr.bias.data\n",
    "\n",
    "newnet.cattoh.weight.data = mynet.cattoh.weight.data\n",
    "newnet.cattoh.bias.data = mynet.cattoh.bias.data\n",
    "\n",
    "newnet.htoa.weight.data = mynet.htoa.weight.data\n",
    "newnet.htoa.bias.data = mynet.htoa.bias.data"
   ]
  },
  {
   "cell_type": "code",
   "execution_count": 13,
   "id": "49b0c0dc-bdaa-4ec6-92cc-3c11eefb789f",
   "metadata": {},
   "outputs": [],
   "source": [
    "for name, param in newnet.named_parameters():\n",
    "    if name=='itol1.weight':\n",
    "        param.requires_grad = True\n",
    "    else:\n",
    "        param.requires_grad = False"
   ]
  },
  {
   "cell_type": "code",
   "execution_count": 14,
   "id": "207e538e-261f-4ecc-b5da-659ee875f93d",
   "metadata": {},
   "outputs": [],
   "source": [
    "def train(net_, nepochs=5000):\n",
    "    net_.train()\n",
    "    n = training_input_pats.shape[0]\n",
    "    for e in range(nepochs): # for each epoch\n",
    "        error_epoch = 0.\n",
    "        for p in range(n): # iterate through input patterns in random order\n",
    "            net_.zero_grad() # reset gradient\n",
    "            output, hidden, rep = net_(training_input_pats[p,:]) # forward pass\n",
    "            target = training_output_pats[p,:]\n",
    "            criterion = nn.BCEWithLogitsLoss(pos_weight=target)\n",
    "            loss = criterion(output.reshape(218), target) # compute loss\n",
    "            loss.backward() # compute gradient \n",
    "            optimizer.step() # update network parameters\n",
    "            error_epoch += loss.item()\n",
    "        error_epoch = error_epoch / float(n)        \n",
    "        if e % 1000 == 0:\n",
    "            print('epoch ' + str(e) + ' loss ' + str(round(error_epoch,7)))\n",
    "        if e % 2000 == 0:\n",
    "            print(f'grad of itol1 weight: {net_.itol1.weight.grad}')"
   ]
  },
  {
   "cell_type": "code",
   "execution_count": 15,
   "id": "42e8ab3c-eb35-4521-8fa1-797b703a7514",
   "metadata": {},
   "outputs": [],
   "source": [
    "train_input_pats_1, train_output_pats_1 = one_hot_encoding('bladder', 'isa', 'organ', generalization=True)\n",
    "train_input_pats_2, train_output_pats_2 = one_hot_encoding('bladder', 'hasa', 'muscl', generalization=True)\n",
    "\n",
    "training_input_pats = torch.cat((train_input_pats_1, train_input_pats_2), dim=0)\n",
    "training_output_pats = torch.cat((train_output_pats_1, train_output_pats_2), dim=0)"
   ]
  },
  {
   "cell_type": "markdown",
   "id": "d6dd6925-fc53-4b77-8dc6-d9ac43fead55",
   "metadata": {},
   "source": [
    "### Training"
   ]
  },
  {
   "cell_type": "code",
   "execution_count": 16,
   "id": "e1505d86-bf36-44c1-9555-a68bd9a560b7",
   "metadata": {},
   "outputs": [
    {
     "name": "stdout",
     "output_type": "stream",
     "text": [
      "epoch 0 loss 0.1830097\n",
      "grad of itol1 weight: tensor([[ 0.0000,  0.0000,  0.0000,  ...,  0.0000,  0.0000, -0.0127],\n",
      "        [ 0.0000,  0.0000,  0.0000,  ...,  0.0000,  0.0000,  0.0129],\n",
      "        [ 0.0000,  0.0000,  0.0000,  ...,  0.0000,  0.0000, -0.0021],\n",
      "        ...,\n",
      "        [ 0.0000,  0.0000,  0.0000,  ...,  0.0000,  0.0000,  0.0281],\n",
      "        [ 0.0000,  0.0000,  0.0000,  ...,  0.0000,  0.0000,  0.0183],\n",
      "        [ 0.0000,  0.0000,  0.0000,  ...,  0.0000,  0.0000, -0.0146]])\n",
      "epoch 1000 loss 0.0003186\n",
      "epoch 2000 loss 0.0002611\n",
      "grad of itol1 weight: tensor([[ 0.0000e+00,  0.0000e+00,  0.0000e+00,  ...,  0.0000e+00,\n",
      "          0.0000e+00, -2.4264e-04],\n",
      "        [ 0.0000e+00,  0.0000e+00,  0.0000e+00,  ...,  0.0000e+00,\n",
      "          0.0000e+00, -2.7908e-04],\n",
      "        [ 0.0000e+00,  0.0000e+00,  0.0000e+00,  ...,  0.0000e+00,\n",
      "          0.0000e+00, -2.6229e-05],\n",
      "        ...,\n",
      "        [ 0.0000e+00,  0.0000e+00,  0.0000e+00,  ...,  0.0000e+00,\n",
      "          0.0000e+00,  1.5693e-04],\n",
      "        [ 0.0000e+00,  0.0000e+00,  0.0000e+00,  ...,  0.0000e+00,\n",
      "          0.0000e+00, -4.4656e-06],\n",
      "        [ 0.0000e+00,  0.0000e+00,  0.0000e+00,  ...,  0.0000e+00,\n",
      "          0.0000e+00, -2.0055e-04]])\n",
      "epoch 3000 loss 0.0002279\n",
      "epoch 4000 loss 0.000204\n",
      "grad of itol1 weight: tensor([[ 0.0000e+00,  0.0000e+00,  0.0000e+00,  ...,  0.0000e+00,\n",
      "          0.0000e+00, -1.8840e-04],\n",
      "        [ 0.0000e+00,  0.0000e+00,  0.0000e+00,  ...,  0.0000e+00,\n",
      "          0.0000e+00, -2.0600e-04],\n",
      "        [ 0.0000e+00,  0.0000e+00,  0.0000e+00,  ...,  0.0000e+00,\n",
      "          0.0000e+00, -2.2428e-05],\n",
      "        ...,\n",
      "        [ 0.0000e+00,  0.0000e+00,  0.0000e+00,  ...,  0.0000e+00,\n",
      "          0.0000e+00,  1.4560e-04],\n",
      "        [ 0.0000e+00,  0.0000e+00,  0.0000e+00,  ...,  0.0000e+00,\n",
      "          0.0000e+00,  3.1565e-05],\n",
      "        [ 0.0000e+00,  0.0000e+00,  0.0000e+00,  ...,  0.0000e+00,\n",
      "          0.0000e+00, -1.6538e-04]])\n",
      "epoch 5000 loss 0.0001863\n",
      "epoch 6000 loss 0.0001727\n",
      "grad of itol1 weight: tensor([[ 0.0000e+00,  0.0000e+00,  0.0000e+00,  ...,  0.0000e+00,\n",
      "          0.0000e+00, -1.4757e-04],\n",
      "        [ 0.0000e+00,  0.0000e+00,  0.0000e+00,  ...,  0.0000e+00,\n",
      "          0.0000e+00, -1.6830e-04],\n",
      "        [ 0.0000e+00,  0.0000e+00,  0.0000e+00,  ...,  0.0000e+00,\n",
      "          0.0000e+00, -1.8700e-05],\n",
      "        ...,\n",
      "        [ 0.0000e+00,  0.0000e+00,  0.0000e+00,  ...,  0.0000e+00,\n",
      "          0.0000e+00,  1.0862e-04],\n",
      "        [ 0.0000e+00,  0.0000e+00,  0.0000e+00,  ...,  0.0000e+00,\n",
      "          0.0000e+00, -1.0207e-06],\n",
      "        [ 0.0000e+00,  0.0000e+00,  0.0000e+00,  ...,  0.0000e+00,\n",
      "          0.0000e+00, -1.3378e-04]])\n",
      "epoch 7000 loss 0.0001614\n",
      "epoch 8000 loss 0.0001523\n",
      "grad of itol1 weight: tensor([[ 0.0000e+00,  0.0000e+00,  0.0000e+00,  ...,  0.0000e+00,\n",
      "          0.0000e+00, -1.2792e-04],\n",
      "        [ 0.0000e+00,  0.0000e+00,  0.0000e+00,  ...,  0.0000e+00,\n",
      "          0.0000e+00, -1.5896e-04],\n",
      "        [ 0.0000e+00,  0.0000e+00,  0.0000e+00,  ...,  0.0000e+00,\n",
      "          0.0000e+00, -1.4600e-05],\n",
      "        ...,\n",
      "        [ 0.0000e+00,  0.0000e+00,  0.0000e+00,  ...,  0.0000e+00,\n",
      "          0.0000e+00,  7.8878e-05],\n",
      "        [ 0.0000e+00,  0.0000e+00,  0.0000e+00,  ...,  0.0000e+00,\n",
      "          0.0000e+00, -2.2260e-05],\n",
      "        [ 0.0000e+00,  0.0000e+00,  0.0000e+00,  ...,  0.0000e+00,\n",
      "          0.0000e+00, -1.2354e-04]])\n",
      "epoch 9000 loss 0.0001444\n"
     ]
    }
   ],
   "source": [
    "learning_rate = 0.01\n",
    "# criterion = nn.BCEWithLogitsLoss()\n",
    "optimizer = torch.optim.SGD(newnet.parameters(), lr=learning_rate, momentum=0.9) # stochastic gradient descent\n",
    "\n",
    "train(newnet, 10000)"
   ]
  },
  {
   "cell_type": "markdown",
   "id": "3012c2e0-8ee9-4c1d-81b5-fa0bfb96007a",
   "metadata": {},
   "source": [
    "### Generalization"
   ]
  },
  {
   "cell_type": "code",
   "execution_count": 17,
   "id": "5ff43516-adc3-4097-b874-9dd730e02b4e",
   "metadata": {},
   "outputs": [],
   "source": [
    "def generalize(head, network):\n",
    "    network.eval()\n",
    "    for rel in names_relations:\n",
    "        input_vec, _ = one_hot_encoding(head, rel, tail='person', generalization=True)  # tail='person' is juat a place holder\n",
    "        pred_idx = sigmoid(network(input_vec)[0]).detach().numpy()>=0.5\n",
    "        pred = names_attributes[pred_idx.reshape(218)]\n",
    "        print(f\"{head} {rel}: {pred}\")"
   ]
  },
  {
   "cell_type": "code",
   "execution_count": 18,
   "id": "e2516833-3660-4fa6-9c5e-28ac7ec54eba",
   "metadata": {},
   "outputs": [
    {
     "name": "stdout",
     "output_type": "stream",
     "text": [
      "bladder atlocation: []\n",
      "bladder capableof: []\n",
      "bladder causes: ['pain']\n",
      "bladder causesdesire: []\n",
      "bladder hasa: ['muscl']\n",
      "bladder hasprerequisite: ['move' 'muscl']\n",
      "bladder hasproperty: []\n",
      "bladder hassubevent: ['fall']\n",
      "bladder isa: ['organ']\n",
      "bladder madeof: ['muscl']\n",
      "bladder motivatedbygoal: []\n",
      "bladder partof: []\n",
      "bladder receivesaction: []\n",
      "bladder usedfor: []\n"
     ]
    }
   ],
   "source": [
    "generalize('bladder', newnet)"
   ]
  },
  {
   "cell_type": "code",
   "execution_count": null,
   "id": "fda194df-2abb-4cad-9724-b0e843c05550",
   "metadata": {},
   "outputs": [],
   "source": []
  }
 ],
 "metadata": {
  "kernelspec": {
   "display_name": "Python 3 (ipykernel)",
   "language": "python",
   "name": "python3"
  },
  "language_info": {
   "codemirror_mode": {
    "name": "ipython",
    "version": 3
   },
   "file_extension": ".py",
   "mimetype": "text/x-python",
   "name": "python",
   "nbconvert_exporter": "python",
   "pygments_lexer": "ipython3",
   "version": "3.8.13"
  }
 },
 "nbformat": 4,
 "nbformat_minor": 5
}
