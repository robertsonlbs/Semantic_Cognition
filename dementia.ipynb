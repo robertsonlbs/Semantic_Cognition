{
 "cells": [
  {
   "cell_type": "code",
   "execution_count": 1,
   "id": "7697c993-87aa-4f2d-94ea-df6ef2283fc7",
   "metadata": {},
   "outputs": [],
   "source": [
    "import pandas as pd\n",
    "import matplotlib\n",
    "%matplotlib inline\n",
    "import matplotlib.pyplot as plt\n",
    "import numpy as np\n",
    "import torch\n",
    "import torch.nn as nn\n",
    "from torch.nn.functional import sigmoid, relu"
   ]
  },
  {
   "cell_type": "markdown",
   "id": "3bb807e6-bfca-49df-a2e4-9a665474cc01",
   "metadata": {},
   "source": [
    "### Load Data"
   ]
  },
  {
   "cell_type": "code",
   "execution_count": 2,
   "id": "e127105b-e812-4724-8a19-04bed7dd61b7",
   "metadata": {},
   "outputs": [
    {
     "name": "stdout",
     "output_type": "stream",
     "text": [
      "num of objects: 75\n",
      "num of relations: 14\n",
      "num of attributes: 218\n"
     ]
    }
   ],
   "source": [
    "with open('1016data/sem_items.txt','r') as fid:\n",
    "    names_items = np.array([l.strip() for l in fid.readlines()])\n",
    "with open('1016data/sem_relations.txt','r') as fid:\n",
    "    names_relations = np.array([l.strip() for l in fid.readlines()])\n",
    "with open('1016data/sem_attributes.txt','r') as fid:\n",
    "    names_attributes = np.array([l.strip() for l in fid.readlines()])\n",
    "        \n",
    "nobj = len(names_items)\n",
    "nrel = len(names_relations)\n",
    "nattributes = len(names_attributes)\n",
    "print(f'num of objects: {nobj}')\n",
    "print(f'num of relations: {nrel}')\n",
    "print(f'num of attributes: {nattributes}')"
   ]
  },
  {
   "cell_type": "code",
   "execution_count": 3,
   "id": "28806291-ad53-417a-b166-8e8888beb46d",
   "metadata": {},
   "outputs": [
    {
     "name": "stdout",
     "output_type": "stream",
     "text": [
      "num of training examples: 250\n",
      "Example input pattern:\n",
      "[0 0 0 0 0 0 0 0 0 0 0 0 0 0 0 0 0 0 0 0 0 0 0 1 0 0 0 0 0 0 0 0 0 0 0 0 0\n",
      " 0 0 0 0 0 0 0 0 0 0 0 0 0 0 0 0 0 0 0 0 0 0 0 0 0 0 0 0 0 0 0 0 0 0 0 0 0\n",
      " 0 0 0 0 0 0 1 0 0 0 0 0 0 0 0]\n",
      "Example output pattern:\n",
      "[0 0 0 0 0 0 0 0 0 0 0 0 0 0 0 0 0 0 0 0 0 0 0 0 0 0 0 0 0 0 0 0 0 0 0 0 0\n",
      " 0 0 0 0 0 0 0 1 0 0 0 0 0 0 0 0 0 0 0 0 0 0 0 0 0 0 0 0 0 0 0 0 0 0 0 0 0\n",
      " 0 0 0 0 0 0 0 0 0 0 0 0 0 0 0 0 0 0 0 0 0 0 0 0 0 0 0 0 0 0 0 0 0 0 0 0 0\n",
      " 0 0 0 0 0 0 0 1 0 0 0 0 0 1 0 0 0 0 0 0 0 0 0 0 0 0 0 0 0 0 0 0 0 0 0 0 1\n",
      " 1 0 0 0 0 0 0 0 0 0 0 0 0 0 0 0 0 0 0 0 0 0 0 0 0 0 0 0 0 0 1 0 0 0 0 0 0\n",
      " 0 0 0 0 0 0 0 0 0 0 0 0 0 0 0 0 0 0 0 0 0 0 0 0 0 0 0 0 0 0 0 0 0]\n",
      "\n",
      "Which encodes...\n",
      "Item ['exercise']\n",
      "Relation ['hasprerequisite']\n",
      "Attributes ['danc' 'jog' 'lift weight' 'move' 'muscl' 'run']\n",
      "num of attributes: 218\n"
     ]
    }
   ],
   "source": [
    "D = np.loadtxt('1016data/sem_data.txt')\n",
    "input_pats = D[:,:nobj+nrel]\n",
    "input_pats = torch.tensor(input_pats,dtype=torch.float)\n",
    "output_pats = D[:,nobj+nrel:]\n",
    "output_pats = torch.tensor(output_pats,dtype=torch.float)\n",
    "N = input_pats.shape[0] # number of training patterns\n",
    "print(f'num of training examples: {N}')\n",
    "\n",
    "input_v = input_pats[0,:].numpy().astype('bool')\n",
    "output_v = output_pats[0,:].numpy().astype('bool')\n",
    "print('Example input pattern:')\n",
    "print(input_v.astype('int'))\n",
    "print('Example output pattern:')\n",
    "print(output_v.astype('int'))\n",
    "print(\"\")\n",
    "print(\"Which encodes...\")\n",
    "print('Item ',end='')\n",
    "print(names_items[input_v[:75]])\n",
    "print('Relation ',end='')\n",
    "print(names_relations[input_v[75:]])\n",
    "print('Attributes ',end='')\n",
    "print(names_attributes[output_v])\n",
    "print(f'num of attributes: {nattributes}')"
   ]
  },
  {
   "cell_type": "code",
   "execution_count": 4,
   "id": "6ec7395e-4c7a-48f5-b64f-e3968cc66968",
   "metadata": {},
   "outputs": [],
   "source": [
    "class Net(nn.Module):\n",
    "    def __init__(self, rep_size, hidden_size, layer_1_size, hidden_rel_size):\n",
    "        super(Net, self).__init__()\n",
    "        # Input\n",
    "        #  layer_size: number of units before representation layer\n",
    "        #  rep_size : number of hidden units in \"Representation Layer\"\n",
    "        #  hidden_Size : number of hidden units in \"Hidden Layer\"\n",
    "        #\n",
    "        # TODO : YOUR CODE GOES HERE\n",
    "        self.itol1 = nn.Linear(nobj, layer_1_size)\n",
    "        self.l1tor = nn.Linear(layer_1_size, rep_size)\n",
    "        self.reltohr = nn.Linear(nrel, hidden_rel_size)\n",
    "        self.cattoh = nn.Linear(rep_size+hidden_rel_size, hidden_size)\n",
    "        self.htoa = nn.Linear(hidden_size, nattributes)\n",
    "\n",
    "    def forward(self, x):\n",
    "        # Defines forward pass for the network on input patterns x\n",
    "        #\n",
    "        # Input can take these two forms:\n",
    "        #\n",
    "        #   x: [nobj+nrel 1D Tensor], which is a single input pattern as a 1D tensor\n",
    "        #      (containing both object and relation 1-hot identifier) (batch size is B=1)\n",
    "        #   OR\n",
    "        #   x : [B x (nobj+nrel) Tensor], which is a batch of B input patterns (one for each row)\n",
    "        #\n",
    "        # Output\n",
    "        #   output [B x nattribute Tensor], which is the output pattern for each input pattern B on the Attribute Layer\n",
    "        #   hidden [B x hidden_size Tensor], which are activations in the Hidden Layer\n",
    "        #   rep [B x rep_size Tensor], which are the activations in the Representation LAyer\n",
    "        x = x.view(-1,nobj+nrel) # reshape as size [B x (nobj+nrel) Tensor] if B=1\n",
    "        x_pat_item = x[:,:nobj] # input to Item Layer [B x nobj Tensor]\n",
    "        x_pat_rel = x[:,nobj:] # input to Relation Layer [B x nrel Tensor]\n",
    "        # TODO : YOUR CODE GOES HERE\n",
    "        layer1 = relu(self.itol1(x_pat_item))\n",
    "        rep = relu(self.l1tor(layer1))\n",
    "        rel = relu(self.reltohr(x_pat_rel))\n",
    "        reprel = torch.cat((rep, rel), dim=1)\n",
    "        hidden = relu(self.cattoh(reprel))\n",
    "        output = self.htoa(hidden)\n",
    "        return output, hidden, rep"
   ]
  },
  {
   "cell_type": "code",
   "execution_count": 5,
   "id": "581e6d16-6cf8-4c22-9632-0259748cc563",
   "metadata": {},
   "outputs": [
    {
     "data": {
      "text/plain": [
       "Net(\n",
       "  (itol1): Linear(in_features=75, out_features=75, bias=True)\n",
       "  (l1tor): Linear(in_features=75, out_features=75, bias=True)\n",
       "  (reltohr): Linear(in_features=14, out_features=30, bias=True)\n",
       "  (cattoh): Linear(in_features=105, out_features=200, bias=True)\n",
       "  (htoa): Linear(in_features=200, out_features=218, bias=True)\n",
       ")"
      ]
     },
     "execution_count": 5,
     "metadata": {},
     "output_type": "execute_result"
    }
   ],
   "source": [
    "mynet = Net(rep_size=75,hidden_size=200, layer_1_size=75, hidden_rel_size=30)\n",
    "PATH = 'model_complex.pt'\n",
    "mynet.load_state_dict(torch.load(PATH))\n",
    "mynet.eval()"
   ]
  },
  {
   "cell_type": "code",
   "execution_count": 6,
   "id": "9b2051a5-53a7-4a7d-9709-702ad932ddca",
   "metadata": {},
   "outputs": [
    {
     "data": {
      "text/html": [
       "<div>\n",
       "<style scoped>\n",
       "    .dataframe tbody tr th:only-of-type {\n",
       "        vertical-align: middle;\n",
       "    }\n",
       "\n",
       "    .dataframe tbody tr th {\n",
       "        vertical-align: top;\n",
       "    }\n",
       "\n",
       "    .dataframe thead th {\n",
       "        text-align: right;\n",
       "    }\n",
       "</style>\n",
       "<table border=\"1\" class=\"dataframe\">\n",
       "  <thead>\n",
       "    <tr style=\"text-align: right;\">\n",
       "      <th></th>\n",
       "      <th>relation</th>\n",
       "      <th>head</th>\n",
       "      <th>tail</th>\n",
       "    </tr>\n",
       "  </thead>\n",
       "  <tbody>\n",
       "    <tr>\n",
       "      <th>0</th>\n",
       "      <td>hasprerequisite</td>\n",
       "      <td>exercise</td>\n",
       "      <td>run</td>\n",
       "    </tr>\n",
       "    <tr>\n",
       "      <th>1</th>\n",
       "      <td>hassubevent</td>\n",
       "      <td>exercise</td>\n",
       "      <td>lose weight</td>\n",
       "    </tr>\n",
       "    <tr>\n",
       "      <th>2</th>\n",
       "      <td>isa</td>\n",
       "      <td>mammal</td>\n",
       "      <td>person</td>\n",
       "    </tr>\n",
       "    <tr>\n",
       "      <th>3</th>\n",
       "      <td>atlocation</td>\n",
       "      <td>food</td>\n",
       "      <td>restur</td>\n",
       "    </tr>\n",
       "    <tr>\n",
       "      <th>4</th>\n",
       "      <td>atlocation</td>\n",
       "      <td>food</td>\n",
       "      <td>cupboard</td>\n",
       "    </tr>\n",
       "  </tbody>\n",
       "</table>\n",
       "</div>"
      ],
      "text/plain": [
       "          relation      head         tail\n",
       "0  hasprerequisite  exercise          run\n",
       "1      hassubevent  exercise  lose weight\n",
       "2              isa    mammal       person\n",
       "3       atlocation      food       restur\n",
       "4       atlocation      food     cupboard"
      ]
     },
     "execution_count": 6,
     "metadata": {},
     "output_type": "execute_result"
    }
   ],
   "source": [
    "df = pd.read_csv('bio_concepts.csv')\n",
    "df.head(5)"
   ]
  },
  {
   "cell_type": "markdown",
   "id": "0faee3f9-67cf-4853-8c72-2241a4e1cffd",
   "metadata": {},
   "source": [
    "### Explore df"
   ]
  },
  {
   "cell_type": "code",
   "execution_count": 7,
   "id": "52989ae0-1a41-4abf-83a2-6b601d2cb587",
   "metadata": {},
   "outputs": [
    {
     "data": {
      "text/html": [
       "<div>\n",
       "<style scoped>\n",
       "    .dataframe tbody tr th:only-of-type {\n",
       "        vertical-align: middle;\n",
       "    }\n",
       "\n",
       "    .dataframe tbody tr th {\n",
       "        vertical-align: top;\n",
       "    }\n",
       "\n",
       "    .dataframe thead th {\n",
       "        text-align: right;\n",
       "    }\n",
       "</style>\n",
       "<table border=\"1\" class=\"dataframe\">\n",
       "  <thead>\n",
       "    <tr style=\"text-align: right;\">\n",
       "      <th></th>\n",
       "      <th># isa</th>\n",
       "    </tr>\n",
       "    <tr>\n",
       "      <th>head</th>\n",
       "      <th></th>\n",
       "    </tr>\n",
       "  </thead>\n",
       "  <tbody>\n",
       "    <tr>\n",
       "      <th>food</th>\n",
       "      <td>8</td>\n",
       "    </tr>\n",
       "    <tr>\n",
       "      <th>animal</th>\n",
       "      <td>7</td>\n",
       "    </tr>\n",
       "    <tr>\n",
       "      <th>alcohol</th>\n",
       "      <td>6</td>\n",
       "    </tr>\n",
       "    <tr>\n",
       "      <th>mammal</th>\n",
       "      <td>4</td>\n",
       "    </tr>\n",
       "    <tr>\n",
       "      <th>brain</th>\n",
       "      <td>4</td>\n",
       "    </tr>\n",
       "  </tbody>\n",
       "</table>\n",
       "</div>"
      ],
      "text/plain": [
       "         # isa\n",
       "head          \n",
       "food         8\n",
       "animal       7\n",
       "alcohol      6\n",
       "mammal       4\n",
       "brain        4"
      ]
     },
     "execution_count": 7,
     "metadata": {},
     "output_type": "execute_result"
    }
   ],
   "source": [
    "df_isa = df[df['relation']=='isa']\n",
    "groupbyhead = df_isa.groupby(['head'])\n",
    "counter = groupbyhead['tail'].agg([lambda x: len(x)])\n",
    "counter.columns=['# isa']\n",
    "top5 = counter.sort_values(by='# isa',ascending=False).iloc[:5]\n",
    "top5"
   ]
  },
  {
   "cell_type": "code",
   "execution_count": 8,
   "id": "fb7b58d5-560e-4815-95ee-88e954334668",
   "metadata": {},
   "outputs": [
    {
     "data": {
      "text/html": [
       "<div>\n",
       "<style scoped>\n",
       "    .dataframe tbody tr th:only-of-type {\n",
       "        vertical-align: middle;\n",
       "    }\n",
       "\n",
       "    .dataframe tbody tr th {\n",
       "        vertical-align: top;\n",
       "    }\n",
       "\n",
       "    .dataframe thead th {\n",
       "        text-align: right;\n",
       "    }\n",
       "</style>\n",
       "<table border=\"1\" class=\"dataframe\">\n",
       "  <thead>\n",
       "    <tr style=\"text-align: right;\">\n",
       "      <th></th>\n",
       "      <th>relation</th>\n",
       "      <th>head</th>\n",
       "      <th>tail</th>\n",
       "    </tr>\n",
       "  </thead>\n",
       "  <tbody>\n",
       "    <tr>\n",
       "      <th>88</th>\n",
       "      <td>isa</td>\n",
       "      <td>alcohol</td>\n",
       "      <td>liquid</td>\n",
       "    </tr>\n",
       "    <tr>\n",
       "      <th>90</th>\n",
       "      <td>isa</td>\n",
       "      <td>alcohol</td>\n",
       "      <td>fuel</td>\n",
       "    </tr>\n",
       "    <tr>\n",
       "      <th>99</th>\n",
       "      <td>isa</td>\n",
       "      <td>alcohol</td>\n",
       "      <td>depress</td>\n",
       "    </tr>\n",
       "    <tr>\n",
       "      <th>116</th>\n",
       "      <td>isa</td>\n",
       "      <td>alcohol</td>\n",
       "      <td>sed pain-kil</td>\n",
       "    </tr>\n",
       "    <tr>\n",
       "      <th>175</th>\n",
       "      <td>isa</td>\n",
       "      <td>alcohol</td>\n",
       "      <td>drink</td>\n",
       "    </tr>\n",
       "    <tr>\n",
       "      <th>228</th>\n",
       "      <td>isa</td>\n",
       "      <td>alcohol</td>\n",
       "      <td>sometim</td>\n",
       "    </tr>\n",
       "  </tbody>\n",
       "</table>\n",
       "</div>"
      ],
      "text/plain": [
       "    relation     head          tail\n",
       "88       isa  alcohol        liquid\n",
       "90       isa  alcohol          fuel\n",
       "99       isa  alcohol       depress\n",
       "116      isa  alcohol  sed pain-kil\n",
       "175      isa  alcohol         drink\n",
       "228      isa  alcohol       sometim"
      ]
     },
     "execution_count": 8,
     "metadata": {},
     "output_type": "execute_result"
    }
   ],
   "source": [
    "filt = (df['head']=='alcohol') & (df['relation']=='isa')\n",
    "df[filt]"
   ]
  },
  {
   "cell_type": "markdown",
   "id": "d8df6523-8af8-4840-b918-46efb0e2e853",
   "metadata": {},
   "source": [
    "### One-Hot Encoding"
   ]
  },
  {
   "cell_type": "code",
   "execution_count": 9,
   "id": "35bcea1b-b714-45ea-b093-aaac5ac84168",
   "metadata": {},
   "outputs": [],
   "source": [
    "head_index = {}\n",
    "for idx, i in enumerate(names_items):\n",
    "    head_index[i]=idx\n",
    "    \n",
    "tail_index = {}\n",
    "for idx, i in enumerate(names_attributes):\n",
    "    tail_index[i]=idx\n",
    "    \n",
    "relation_index = {}\n",
    "for idx, i in enumerate(names_relations):\n",
    "    relation_index[i]=idx\n",
    "    \n",
    "assert len(head_index)==75\n",
    "assert len(tail_index)==218\n",
    "assert len(relation_index)==14"
   ]
  },
  {
   "cell_type": "code",
   "execution_count": 10,
   "id": "62087ec6-e53f-49cc-a5f3-d3eeabf73532",
   "metadata": {},
   "outputs": [],
   "source": [
    "def one_hot_encoding(head, relation, tail):\n",
    "    vector = np.zeros(75+14)\n",
    "    \n",
    "    h_idx = head_index[head]\n",
    "    r_idx = relation_index[relation]+75\n",
    "    t_idx = tail_index[tail]  # used for identify the index of attributes\n",
    "    \n",
    "    vector[h_idx] = 1\n",
    "    vector[r_idx] = 1\n",
    "    vector = torch.tensor(vector,dtype=torch.float)\n",
    "    return vector, t_idx"
   ]
  },
  {
   "cell_type": "markdown",
   "id": "93af3377-6330-440f-a8b1-58df482d8be9",
   "metadata": {},
   "source": [
    "### Random Noise to Represent Dementia"
   ]
  },
  {
   "cell_type": "code",
   "execution_count": 11,
   "id": "5c547dd6-ec66-4ec8-a125-6887f00d5be6",
   "metadata": {},
   "outputs": [],
   "source": [
    "def add_random_noise_hook(noisy_coeff, seed):\n",
    "    def hook(module, input, output):\n",
    "        # Get the activations of the layer\n",
    "        linear_out = output.data\n",
    "\n",
    "        # Generate random noise with the same shape as the activations, scaled by noisy_coeff\n",
    "        torch.manual_seed(seed)\n",
    "        noise = torch.randn_like(linear_out) * noisy_coeff\n",
    "\n",
    "        # Add the noise to the activations\n",
    "        noisy_linear_out = linear_out + noise\n",
    "        output.data = noisy_linear_out\n",
    "    \n",
    "    return hook"
   ]
  },
  {
   "cell_type": "code",
   "execution_count": 12,
   "id": "1a1012e8-1648-4e29-bb26-46c2649a6092",
   "metadata": {},
   "outputs": [],
   "source": [
    "def dementia(head, relation, tail, noisy_coeff_lst, seed):\n",
    "    prediction_lst = []\n",
    "    input_v, output_idx = one_hot_encoding(head, relation, tail)\n",
    "    for noisy_coeff in noisy_coeff_lst:\n",
    "        rep_layer = mynet.l1tor\n",
    "        handle = rep_layer.register_forward_hook(add_random_noise_hook(noisy_coeff, seed))\n",
    "        pred = sigmoid(mynet(input_v)[0]).detach().numpy().reshape(218)[output_idx]\n",
    "        print(f'with noise level {noisy_coeff}, sigmoid output is {pred}')\n",
    "        prediction_lst.append(pred)\n",
    "        try: \n",
    "            handle.remove()\n",
    "        except:\n",
    "            print('handle removal failed')\n",
    "    return prediction_lst"
   ]
  },
  {
   "cell_type": "code",
   "execution_count": 13,
   "id": "f1bd4a79-3cc6-46a1-bcc3-cd2bf3c4230e",
   "metadata": {},
   "outputs": [
    {
     "name": "stdout",
     "output_type": "stream",
     "text": [
      "with noise level 0, sigmoid output is 0.9979329109191895\n",
      "with noise level 0.5, sigmoid output is 0.9970124959945679\n",
      "with noise level 1, sigmoid output is 0.9899798631668091\n",
      "with noise level 1.5, sigmoid output is 0.9280300140380859\n",
      "with noise level 2, sigmoid output is 0.2935791015625\n",
      "[0.9979329, 0.9970125, 0.98997986, 0.92803, 0.2935791]\n"
     ]
    }
   ],
   "source": [
    "head = 'alcohol'\n",
    "relation = 'isa'\n",
    "tail = 'liquid'\n",
    "seed = 5\n",
    "noisy_coeff_lst = [0,0.5,1,1.5,2]\n",
    "\n",
    "prediction_lst = dementia(head, relation, tail, noisy_coeff_lst, seed)\n",
    "print(prediction_lst)"
   ]
  },
  {
   "cell_type": "code",
   "execution_count": 14,
   "id": "22afa31f-c998-4970-bfb4-08e01c9250be",
   "metadata": {},
   "outputs": [
    {
     "name": "stdout",
     "output_type": "stream",
     "text": [
      "with noise level 0, sigmoid output is 0.9997372031211853\n",
      "with noise level 0.5, sigmoid output is 0.7836465239524841\n",
      "with noise level 1, sigmoid output is 0.0010879221372306347\n",
      "with noise level 1.5, sigmoid output is 2.0027208336159674e-07\n",
      "with noise level 2, sigmoid output is 8.008195495623482e-11\n",
      "[0.9997372, 0.7836465, 0.0010879221, 2.0027208e-07, 8.0081955e-11]\n"
     ]
    }
   ],
   "source": [
    "head = 'alcohol'\n",
    "relation = 'isa'\n",
    "tail = 'sed pain-kil'\n",
    "seed = 5\n",
    "noisy_coeff_lst = [0,0.5,1,1.5,2]\n",
    "\n",
    "prediction_lst = dementia(head, relation, tail, noisy_coeff_lst, seed)\n",
    "print(prediction_lst)"
   ]
  },
  {
   "cell_type": "code",
   "execution_count": null,
   "id": "c3f68b90-ff8b-4ce6-ac45-13c4d30991ff",
   "metadata": {},
   "outputs": [],
   "source": []
  }
 ],
 "metadata": {
  "kernelspec": {
   "display_name": "Python 3 (ipykernel)",
   "language": "python",
   "name": "python3"
  },
  "language_info": {
   "codemirror_mode": {
    "name": "ipython",
    "version": 3
   },
   "file_extension": ".py",
   "mimetype": "text/x-python",
   "name": "python",
   "nbconvert_exporter": "python",
   "pygments_lexer": "ipython3",
   "version": "3.8.13"
  }
 },
 "nbformat": 4,
 "nbformat_minor": 5
}
